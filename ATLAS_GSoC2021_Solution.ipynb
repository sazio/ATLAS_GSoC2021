{
 "cells": [
  {
   "cell_type": "markdown",
   "metadata": {
    "id": "RFEwt4ZQATXD"
   },
   "source": [
    "In this notebook, we will run a ready-made network starting from some ATLAS data, which is already normalized. There is also an alternative to train the network from scratch.  "
   ]
  },
  {
   "cell_type": "markdown",
   "metadata": {
    "id": "HxgeHZOLATXG"
   },
   "source": [
    "## Look into the dataset"
   ]
  },
  {
   "cell_type": "markdown",
   "metadata": {
    "id": "MnlXRRPkATXG"
   },
   "source": [
    "First we need to make sure that Python 3.8 is used in the notebook. It is required in order to open this certain .pkl-file. "
   ]
  },
  {
   "cell_type": "code",
   "execution_count": 112,
   "metadata": {
    "id": "8QitIOHyATXG",
    "outputId": "7c2b21af-53aa-4dc7-be99-8503b109c2be"
   },
   "outputs": [
    {
     "data": {
      "text/plain": [
       "'3.8.5 (default, Sep  4 2020, 02:22:02) \\n[Clang 10.0.0 ]'"
      ]
     },
     "execution_count": 112,
     "metadata": {},
     "output_type": "execute_result"
    }
   ],
   "source": [
    "import sys\n",
    "sys.version"
   ]
  },
  {
   "cell_type": "code",
   "execution_count": 129,
   "metadata": {},
   "outputs": [],
   "source": [
    "# Preprocessing Data\n",
    "## semicolon becomes comma, there was an incongruency in original data\n",
    "pre_data_path = 'Data/monojet_Zp2000.0_DM_50.0_chan3.csv'\n",
    "text_file = open(pre_data_path, \"r\")\n",
    "text_file = ''.join([i for i in text_file]) \\\n",
    "    .replace(\";\", \",\")\n",
    "\n",
    "file_to_write = open(\"Data/clean_data.csv\",\"w\")\n",
    "file_to_write.writelines(text_file)\n",
    "file_to_write.close()"
   ]
  },
  {
   "cell_type": "code",
   "execution_count": 130,
   "metadata": {},
   "outputs": [
    {
     "data": {
      "text/html": [
       "<div>\n",
       "<style scoped>\n",
       "    .dataframe tbody tr th:only-of-type {\n",
       "        vertical-align: middle;\n",
       "    }\n",
       "\n",
       "    .dataframe tbody tr th {\n",
       "        vertical-align: top;\n",
       "    }\n",
       "\n",
       "    .dataframe thead th {\n",
       "        text-align: right;\n",
       "    }\n",
       "</style>\n",
       "<table border=\"1\" class=\"dataframe\">\n",
       "  <thead>\n",
       "    <tr style=\"text-align: right;\">\n",
       "      <th></th>\n",
       "      <th>event ID</th>\n",
       "      <th>process ID</th>\n",
       "      <th>event weight</th>\n",
       "      <th>MET</th>\n",
       "      <th>METphi</th>\n",
       "      <th>obj1</th>\n",
       "      <th>E1</th>\n",
       "      <th>pt1</th>\n",
       "      <th>eta1</th>\n",
       "      <th>phi1</th>\n",
       "      <th>...</th>\n",
       "      <th>obj11</th>\n",
       "      <th>E11</th>\n",
       "      <th>pt11</th>\n",
       "      <th>eta11</th>\n",
       "      <th>phi11</th>\n",
       "      <th>obj12</th>\n",
       "      <th>E13</th>\n",
       "      <th>pt14</th>\n",
       "      <th>eta15</th>\n",
       "      <th>phi16</th>\n",
       "    </tr>\n",
       "  </thead>\n",
       "  <tbody>\n",
       "    <tr>\n",
       "      <th>0</th>\n",
       "      <td>354</td>\n",
       "      <td>monojet_Zp2000.0_DM_50.0</td>\n",
       "      <td>0.000024</td>\n",
       "      <td>832841.0</td>\n",
       "      <td>-1.22431</td>\n",
       "      <td>b</td>\n",
       "      <td>947383.0</td>\n",
       "      <td>824498.0</td>\n",
       "      <td>-0.523103</td>\n",
       "      <td>1.644210</td>\n",
       "      <td>...</td>\n",
       "      <td>NaN</td>\n",
       "      <td>NaN</td>\n",
       "      <td>NaN</td>\n",
       "      <td>NaN</td>\n",
       "      <td>NaN</td>\n",
       "      <td>NaN</td>\n",
       "      <td>NaN</td>\n",
       "      <td>NaN</td>\n",
       "      <td>NaN</td>\n",
       "      <td>NaN</td>\n",
       "    </tr>\n",
       "    <tr>\n",
       "      <th>1</th>\n",
       "      <td>354</td>\n",
       "      <td>monojet_Zp2000.0_DM_50.0</td>\n",
       "      <td>0.000024</td>\n",
       "      <td>732115.0</td>\n",
       "      <td>1.17245</td>\n",
       "      <td>j</td>\n",
       "      <td>1069460.0</td>\n",
       "      <td>751597.0</td>\n",
       "      <td>0.858186</td>\n",
       "      <td>-1.842170</td>\n",
       "      <td>...</td>\n",
       "      <td>NaN</td>\n",
       "      <td>NaN</td>\n",
       "      <td>NaN</td>\n",
       "      <td>NaN</td>\n",
       "      <td>NaN</td>\n",
       "      <td>NaN</td>\n",
       "      <td>NaN</td>\n",
       "      <td>NaN</td>\n",
       "      <td>NaN</td>\n",
       "      <td>NaN</td>\n",
       "    </tr>\n",
       "    <tr>\n",
       "      <th>2</th>\n",
       "      <td>354</td>\n",
       "      <td>monojet_Zp2000.0_DM_50.0</td>\n",
       "      <td>0.000024</td>\n",
       "      <td>1056280.0</td>\n",
       "      <td>-3.06744</td>\n",
       "      <td>j</td>\n",
       "      <td>676000.0</td>\n",
       "      <td>640429.0</td>\n",
       "      <td>0.330450</td>\n",
       "      <td>0.704554</td>\n",
       "      <td>...</td>\n",
       "      <td>NaN</td>\n",
       "      <td>NaN</td>\n",
       "      <td>NaN</td>\n",
       "      <td>NaN</td>\n",
       "      <td>NaN</td>\n",
       "      <td>NaN</td>\n",
       "      <td>NaN</td>\n",
       "      <td>NaN</td>\n",
       "      <td>NaN</td>\n",
       "      <td>NaN</td>\n",
       "    </tr>\n",
       "    <tr>\n",
       "      <th>3</th>\n",
       "      <td>354</td>\n",
       "      <td>monojet_Zp2000.0_DM_50.0</td>\n",
       "      <td>0.000024</td>\n",
       "      <td>631781.0</td>\n",
       "      <td>1.64181</td>\n",
       "      <td>j</td>\n",
       "      <td>936707.0</td>\n",
       "      <td>616229.0</td>\n",
       "      <td>0.973383</td>\n",
       "      <td>-1.565920</td>\n",
       "      <td>...</td>\n",
       "      <td>NaN</td>\n",
       "      <td>NaN</td>\n",
       "      <td>NaN</td>\n",
       "      <td>NaN</td>\n",
       "      <td>NaN</td>\n",
       "      <td>NaN</td>\n",
       "      <td>NaN</td>\n",
       "      <td>NaN</td>\n",
       "      <td>NaN</td>\n",
       "      <td>NaN</td>\n",
       "    </tr>\n",
       "    <tr>\n",
       "      <th>4</th>\n",
       "      <td>354</td>\n",
       "      <td>monojet_Zp2000.0_DM_50.0</td>\n",
       "      <td>0.000024</td>\n",
       "      <td>457316.0</td>\n",
       "      <td>-1.87536</td>\n",
       "      <td>j</td>\n",
       "      <td>640313.0</td>\n",
       "      <td>589524.0</td>\n",
       "      <td>0.390749</td>\n",
       "      <td>1.237340</td>\n",
       "      <td>...</td>\n",
       "      <td>NaN</td>\n",
       "      <td>NaN</td>\n",
       "      <td>NaN</td>\n",
       "      <td>NaN</td>\n",
       "      <td>NaN</td>\n",
       "      <td>NaN</td>\n",
       "      <td>NaN</td>\n",
       "      <td>NaN</td>\n",
       "      <td>NaN</td>\n",
       "      <td>NaN</td>\n",
       "    </tr>\n",
       "  </tbody>\n",
       "</table>\n",
       "<p>5 rows × 65 columns</p>\n",
       "</div>"
      ],
      "text/plain": [
       "   event ID                process ID  event weight        MET   METphi obj1  \\\n",
       "0       354  monojet_Zp2000.0_DM_50.0      0.000024   832841.0 -1.22431    b   \n",
       "1       354  monojet_Zp2000.0_DM_50.0      0.000024   732115.0  1.17245    j   \n",
       "2       354  monojet_Zp2000.0_DM_50.0      0.000024  1056280.0 -3.06744    j   \n",
       "3       354  monojet_Zp2000.0_DM_50.0      0.000024   631781.0  1.64181    j   \n",
       "4       354  monojet_Zp2000.0_DM_50.0      0.000024   457316.0 -1.87536    j   \n",
       "\n",
       "          E1       pt1      eta1      phi1  ... obj11  E11  pt11  eta11  \\\n",
       "0   947383.0  824498.0 -0.523103  1.644210  ...   NaN  NaN   NaN    NaN   \n",
       "1  1069460.0  751597.0  0.858186 -1.842170  ...   NaN  NaN   NaN    NaN   \n",
       "2   676000.0  640429.0  0.330450  0.704554  ...   NaN  NaN   NaN    NaN   \n",
       "3   936707.0  616229.0  0.973383 -1.565920  ...   NaN  NaN   NaN    NaN   \n",
       "4   640313.0  589524.0  0.390749  1.237340  ...   NaN  NaN   NaN    NaN   \n",
       "\n",
       "   phi11 obj12  E13  pt14  eta15  phi16  \n",
       "0    NaN   NaN  NaN   NaN    NaN    NaN  \n",
       "1    NaN   NaN  NaN   NaN    NaN    NaN  \n",
       "2    NaN   NaN  NaN   NaN    NaN    NaN  \n",
       "3    NaN   NaN  NaN   NaN    NaN    NaN  \n",
       "4    NaN   NaN  NaN   NaN    NaN    NaN  \n",
       "\n",
       "[5 rows x 65 columns]"
      ]
     },
     "execution_count": 130,
     "metadata": {},
     "output_type": "execute_result"
    }
   ],
   "source": [
    "import pandas as pd\n",
    "data_path = 'Data/clean_data.csv'\n",
    "# Forcing the number of columns in order to avoid tokenization errors or either to remove some data\n",
    "col_names = [\"event ID\", \"process ID\", \"event weight\", \"MET\", \"METphi\", \n",
    "             \"obj1\", \"E1\", \"pt1\", \"eta1\",\"phi1\", \"obj2\", \"E2\", \"pt2\", \"eta2\", \"phi2\",\n",
    "             \"obj3\", \"E3\", \"pt3\", \"eta3\",\"phi3\", \"obj4\", \"E4\", \"pt4\", \"eta4\", \"phi4\",\n",
    "             \"obj5\", \"E5\", \"pt5\", \"eta5\",\"phi5\", \"obj6\", \"E6\", \"pt6\", \"eta6\", \"phi6\",\n",
    "             \"obj7\", \"E7\", \"pt7\", \"eta7\", \"phi7\", \"obj8\", \"E8\", \"pt8\", \"eta8\", \"phi8\", \n",
    "             \"obj9\", \"E9\", \"pt9\", \"eta9\" , \"phi9\", \"obj10\", \"E10\", \"pt10\", \"eta10\", \"phi10\",\n",
    "             \"obj11\", \"E11\", \"pt11\", \"eta11\" , \"phi11\", \"obj12\", \"E13\", \"pt14\", \"eta15\" , \"phi16\"]\n",
    "\n",
    "data = pd.read_csv(data_path,names = col_names, header = None)\n",
    "data.head()"
   ]
  },
  {
   "cell_type": "code",
   "execution_count": 131,
   "metadata": {},
   "outputs": [],
   "source": [
    "data = data.iloc[:,5:]\n",
    "data_arr = []\n",
    "for i in range(0, data.shape[1], 5):\n",
    "    data_arr.append(data[data.iloc[:,i] ==\"j\"].iloc[:,i:i+5])\n"
   ]
  },
  {
   "cell_type": "code",
   "execution_count": 132,
   "metadata": {},
   "outputs": [],
   "source": [
    "data_final = data_arr[0]\n",
    "for i in range(1, len(data_arr)):\n",
    "    data_arr[i].columns = data_arr[0].columns\n",
    "    data_final = pd.concat([data_final,data_arr[i]], ignore_index = True)    \n",
    "    \n",
    "data_final.columns = [\"obj\", \"E\", \"pt\", \"eta\", \"phi\"]"
   ]
  },
  {
   "cell_type": "code",
   "execution_count": 133,
   "metadata": {},
   "outputs": [
    {
     "data": {
      "text/html": [
       "<div>\n",
       "<style scoped>\n",
       "    .dataframe tbody tr th:only-of-type {\n",
       "        vertical-align: middle;\n",
       "    }\n",
       "\n",
       "    .dataframe tbody tr th {\n",
       "        vertical-align: top;\n",
       "    }\n",
       "\n",
       "    .dataframe thead th {\n",
       "        text-align: right;\n",
       "    }\n",
       "</style>\n",
       "<table border=\"1\" class=\"dataframe\">\n",
       "  <thead>\n",
       "    <tr style=\"text-align: right;\">\n",
       "      <th></th>\n",
       "      <th>obj</th>\n",
       "      <th>E</th>\n",
       "      <th>pt</th>\n",
       "      <th>eta</th>\n",
       "      <th>phi</th>\n",
       "    </tr>\n",
       "  </thead>\n",
       "  <tbody>\n",
       "    <tr>\n",
       "      <th>0</th>\n",
       "      <td>j</td>\n",
       "      <td>1069460.0</td>\n",
       "      <td>751597.0</td>\n",
       "      <td>0.858186</td>\n",
       "      <td>-1.842170</td>\n",
       "    </tr>\n",
       "    <tr>\n",
       "      <th>1</th>\n",
       "      <td>j</td>\n",
       "      <td>676000.0</td>\n",
       "      <td>640429.0</td>\n",
       "      <td>0.330450</td>\n",
       "      <td>0.704554</td>\n",
       "    </tr>\n",
       "    <tr>\n",
       "      <th>2</th>\n",
       "      <td>j</td>\n",
       "      <td>936707.0</td>\n",
       "      <td>616229.0</td>\n",
       "      <td>0.973383</td>\n",
       "      <td>-1.565920</td>\n",
       "    </tr>\n",
       "    <tr>\n",
       "      <th>3</th>\n",
       "      <td>j</td>\n",
       "      <td>640313.0</td>\n",
       "      <td>589524.0</td>\n",
       "      <td>0.390749</td>\n",
       "      <td>1.237340</td>\n",
       "    </tr>\n",
       "    <tr>\n",
       "      <th>4</th>\n",
       "      <td>j</td>\n",
       "      <td>583373.0</td>\n",
       "      <td>545730.0</td>\n",
       "      <td>0.364057</td>\n",
       "      <td>-1.607320</td>\n",
       "    </tr>\n",
       "  </tbody>\n",
       "</table>\n",
       "</div>"
      ],
      "text/plain": [
       "  obj          E        pt       eta       phi\n",
       "0   j  1069460.0  751597.0  0.858186 -1.842170\n",
       "1   j   676000.0  640429.0  0.330450  0.704554\n",
       "2   j   936707.0  616229.0  0.973383 -1.565920\n",
       "3   j   640313.0  589524.0  0.390749  1.237340\n",
       "4   j   583373.0  545730.0  0.364057 -1.607320"
      ]
     },
     "execution_count": 133,
     "metadata": {},
     "output_type": "execute_result"
    }
   ],
   "source": [
    "data_final.head()"
   ]
  },
  {
   "cell_type": "code",
   "execution_count": 134,
   "metadata": {},
   "outputs": [],
   "source": [
    "# Data are on completely different scales --> normalization (for each column on its own) will help the convergence\n",
    "## Min Max Normalization --> values between 0 and 1 \n",
    "def min_max_normalization(df):\n",
    "    result = df.copy()\n",
    "    for feature_name in df.columns:\n",
    "        max_value = df[feature_name].max()\n",
    "        min_value = df[feature_name].min()\n",
    "        result[feature_name] = (df[feature_name] - min_value) / (max_value - min_value)\n",
    "    return result\n",
    "\n",
    "# normalized_df=(df-df.mean())/df.std()\n",
    "## mean Normalization \n",
    "def mean_normalization(df):\n",
    "    result = df.copy()\n",
    "    for feature_name in df.columns:\n",
    "        mean_value = df[feature_name].mean()\n",
    "        std_value = df[feature_name].std()\n",
    "        result[feature_name] = (df[feature_name] - mean_value) / std_value\n",
    "    return result"
   ]
  },
  {
   "cell_type": "code",
   "execution_count": 135,
   "metadata": {},
   "outputs": [],
   "source": [
    "# min max normalization is more effective (loss 10 times smaller wrt mean_normalization)\n",
    "data_final = min_max_normalization(data_final.iloc[:,1:])\n",
    "#data_final = mean_normalization(data_final.iloc[:,1:])"
   ]
  },
  {
   "cell_type": "markdown",
   "metadata": {
    "id": "bibDFEI2ATXH"
   },
   "source": [
    "We take a pickle dataset, and open into Pandas (after importing pandas). Note that you have to change the paths to the directory where your processed files are. "
   ]
  },
  {
   "cell_type": "code",
   "execution_count": 136,
   "metadata": {
    "id": "dKd2VoJkATXH",
    "outputId": "e5fb6791-428e-48c4-b574-2d8b02298e77"
   },
   "outputs": [
    {
     "name": "stdout",
     "output_type": "stream",
     "text": [
      "Training sample:\n",
      "              E        pt       eta       phi\n",
      "17896  0.042025  0.033943  0.657096  0.688025\n",
      "1473   0.096903  0.182722  0.552473  0.850072\n",
      "12228  0.000110  0.001224  0.503127  0.758903\n",
      "18165  0.043635  0.000543  0.809528  0.485277\n",
      "16891  0.004692  0.006915  0.438416  0.475933\n",
      "\n",
      "\n",
      "Testing sample:\n",
      "              E        pt       eta       phi\n",
      "2172   0.170004  0.357041  0.518484  0.018216\n",
      "21009  0.001745  0.001704  0.575366  0.722839\n",
      "2628   0.132269  0.280237  0.515589  0.494558\n",
      "11520  0.028999  0.047895  0.577931  0.076552\n",
      "17678  0.020783  0.027788  0.600477  0.634701\n",
      "\n",
      "\n",
      "The number of entries in the training data: 18128\n",
      "The number of entries in the validation data: 4533\n"
     ]
    }
   ],
   "source": [
    "# splitting train / test (maybe validation would be more appropriate)\n",
    "from sklearn.model_selection import train_test_split\n",
    "\n",
    "train, test = train_test_split(data_final, test_size = 0.2, random_state = 137)\n",
    "\n",
    "# To get an idea of the order of magnitude we are going to see in the plots we show the first elements \n",
    "# in the samples:\n",
    "print('Training sample:')\n",
    "print(train.head())\n",
    "\n",
    "print('\\n')\n",
    "\n",
    "print('Testing sample:')\n",
    "print(test.head())\n",
    "\n",
    "print('\\n')\n",
    "\n",
    "print('The number of entries in the training data:', len(train))\n",
    "print('The number of entries in the validation data:', len(test))"
   ]
  },
  {
   "cell_type": "markdown",
   "metadata": {
    "id": "tieXBBYhATXH"
   },
   "source": [
    "Now we plot the data using the matplotlib library. The units reflect the normalization, but it's the shape that we care about. "
   ]
  },
  {
   "cell_type": "code",
   "execution_count": 121,
   "metadata": {
    "id": "4GBvKPKEATXH",
    "outputId": "c77d0165-4a23-48b3-b84a-dc7117bc3dfe"
   },
   "outputs": [
    {
     "data": {
      "image/png": "[encoded data removed]",
      "text/plain": [
       "<Figure size 432x288 with 1 Axes>"
      ]
     },
     "metadata": {
      "needs_background": "light"
     },
     "output_type": "display_data"
    },
    {
     "data": {
      "image/png": "[encoded data removed]",
      "text/plain": [
       "<Figure size 432x288 with 1 Axes>"
      ]
     },
     "metadata": {
      "needs_background": "light"
     },
     "output_type": "display_data"
    },
    {
     "data": {
      "image/png": "[encoded data removed]",
      "text/plain": [
       "<Figure size 432x288 with 1 Axes>"
      ]
     },
     "metadata": {
      "needs_background": "light"
     },
     "output_type": "display_data"
    },
    {
     "data": {
      "image/png": "[encoded data removed]",
      "text/plain": [
       "<Figure size 432x288 with 1 Axes>"
      ]
     },
     "metadata": {
      "needs_background": "light"
     },
     "output_type": "display_data"
    }
   ],
   "source": [
    "import matplotlib.pyplot as plt\n",
    "\n",
    "unit_list = ['[log(GeV)]', '[rad/3]', '[rad/3]', '[log(GeV)]']\n",
    "variable_list = [r'$p_T$', r'$\\eta$', r'$\\phi$', r'$E$']\n",
    "\n",
    "branches=[\"pt\",\"eta\",\"phi\",\"E\"]\n",
    "\n",
    "n_bins = 100\n",
    "\n",
    "for kk in range(0,4):\n",
    "    n_hist_data, bin_edges, _ = plt.hist(train[branches[kk]], color='gray', label='Input', alpha=1, bins=n_bins)\n",
    "    plt.xlabel(xlabel=variable_list[kk] + ' ' + unit_list[kk])\n",
    "    plt.ylabel('# of events')\n",
    "    #plt.savefig(\"fourmomentum_\"+branches[kk],dpi=300)\n",
    "    plt.show()"
   ]
  },
  {
   "cell_type": "markdown",
   "metadata": {
    "id": "A1F5G1FNATXH"
   },
   "source": [
    "## Setting up the network"
   ]
  },
  {
   "cell_type": "markdown",
   "metadata": {
    "id": "74jePPAIATXI"
   },
   "source": [
    "### Preparing the data"
   ]
  },
  {
   "cell_type": "markdown",
   "metadata": {
    "id": "l-rUOyeoATXI"
   },
   "source": [
    "Adding the two datasets as TensorDatasets to PyTorch (also loading all other classes we'll need later)"
   ]
  },
  {
   "cell_type": "code",
   "execution_count": 122,
   "metadata": {
    "id": "2XEFev5gATXI"
   },
   "outputs": [],
   "source": [
    "import torch\n",
    "import torch.nn as nn\n",
    "import torch.optim as optim\n",
    "import torch.utils.data\n",
    "from torch.autograd import Variable\n",
    "\n",
    "from torch.utils.data import TensorDataset\n",
    "from torch.utils.data import DataLoader\n",
    "\n",
    "from fastai import learner\n",
    "from fastai.data import core\n",
    "\n",
    "train_x = train\n",
    "test_x = test\n",
    "train_y = train_x  # y = x since we are building an autoencoder\n",
    "test_y = test_x\n",
    "\n",
    "# Constructs a tensor object of the data and wraps them in a TensorDataset object.\n",
    "train_ds = TensorDataset(torch.tensor(train_x.values, dtype=torch.float), torch.tensor(train_y.values, dtype=torch.float))\n",
    "valid_ds = TensorDataset(torch.tensor(test_x.values, dtype=torch.float), torch.tensor(test_y.values, dtype=torch.float))"
   ]
  },
  {
   "cell_type": "markdown",
   "metadata": {
    "id": "odJEvt4LATXI"
   },
   "source": [
    "We now set things up to load the data, and we use a batch size that was optimized by previous students...note also that this is fastai v2, migration thanks to Jessica Lastow."
   ]
  },
  {
   "cell_type": "code",
   "execution_count": 123,
   "metadata": {
    "id": "ixPKKKPUATXI"
   },
   "outputs": [],
   "source": [
    "bs = 256\n",
    "\n",
    "# Converts the TensorDataset into a DataLoader object and combines into one DataLoaders object (a basic wrapper\n",
    "# around several DataLoader objects). \n",
    "train_dl = DataLoader(train_ds, batch_size=bs, shuffle=True)\n",
    "valid_dl = DataLoader(valid_ds, batch_size=bs * 2)\n",
    "dls = core.DataLoaders(train_dl, valid_dl)"
   ]
  },
  {
   "cell_type": "markdown",
   "metadata": {
    "id": "PO1x0QHwATXI"
   },
   "source": [
    "### Preparing the network"
   ]
  },
  {
   "cell_type": "markdown",
   "metadata": {
    "id": "kF3ZY95JATXI"
   },
   "source": [
    "Here we have an example network. Details aren't too important, as long as they match what was already trained for us...in this case we have a LeakyReLU, tanh activation function, and a number of layers that goes from 4 to 200 to 20 to 3 (number of features in the hidden layer that we pick for testing compression) and then back all the way to 4. "
   ]
  },
  {
   "cell_type": "code",
   "execution_count": 124,
   "metadata": {
    "id": "0SehD8TpATXI",
    "outputId": "0b00e445-b31e-40ea-9062-89485d0b28b1"
   },
   "outputs": [
    {
     "data": {
      "text/plain": [
       "AE_3D_200_LeakyReLU(\n",
       "  (en1): Linear(in_features=4, out_features=200, bias=True)\n",
       "  (en2): Linear(in_features=200, out_features=200, bias=True)\n",
       "  (en3): Linear(in_features=200, out_features=20, bias=True)\n",
       "  (en4): Linear(in_features=20, out_features=3, bias=True)\n",
       "  (de1): Linear(in_features=3, out_features=20, bias=True)\n",
       "  (de2): Linear(in_features=20, out_features=200, bias=True)\n",
       "  (de3): Linear(in_features=200, out_features=200, bias=True)\n",
       "  (de4): Linear(in_features=200, out_features=4, bias=True)\n",
       "  (tanh): Tanh()\n",
       ")"
      ]
     },
     "execution_count": 124,
     "metadata": {},
     "output_type": "execute_result"
    }
   ],
   "source": [
    "class AE_3D_200_LeakyReLU(nn.Module):\n",
    "    def __init__(self, n_features=4):\n",
    "        super(AE_3D_200_LeakyReLU, self).__init__()\n",
    "        self.en1 = nn.Linear(n_features, 200)\n",
    "        self.en2 = nn.Linear(200, 200)\n",
    "        self.en3 = nn.Linear(200, 20)\n",
    "        self.en4 = nn.Linear(20, 3)\n",
    "        self.de1 = nn.Linear(3, 20)\n",
    "        self.de2 = nn.Linear(20, 200)\n",
    "        self.de3 = nn.Linear(200, 200)\n",
    "        self.de4 = nn.Linear(200, n_features)\n",
    "        self.tanh = nn.Tanh()\n",
    "\n",
    "    def encode(self, x):\n",
    "        return self.en4(self.tanh(self.en3(self.tanh(self.en2(self.tanh(self.en1(x)))))))\n",
    "\n",
    "    def decode(self, x):\n",
    "        return self.de4(self.tanh(self.de3(self.tanh(self.de2(self.tanh(self.de1(self.tanh(x))))))))\n",
    "\n",
    "    def forward(self, x):\n",
    "        z = self.encode(x)\n",
    "        return self.decode(z)\n",
    "\n",
    "    def describe(self):\n",
    "        return 'in-200-200-20-3-20-200-200-out'\n",
    "\n",
    "#model = AE_3D_200_LeakyReLU().double()\n",
    "model = AE_3D_200_LeakyReLU()\n",
    "model.to('cpu')"
   ]
  },
  {
   "cell_type": "markdown",
   "metadata": {
    "id": "7VyNJ9jSATXI"
   },
   "source": [
    "We now have to pick a loss function - MSE loss is appropriate for a compression autoencoder since it reflects the [(input-output)/input] physical quantity that we want to minimize. "
   ]
  },
  {
   "cell_type": "code",
   "execution_count": 125,
   "metadata": {
    "id": "rQ6GFlYWATXJ"
   },
   "outputs": [],
   "source": [
    "from fastai.metrics import mse\n",
    "\n",
    "loss_func = nn.MSELoss()\n",
    "\n",
    "#bn_wd = False  # Don't use weight decay for batchnorm layers\n",
    "#true_wd = True  # weight decay will be used for all optimizers\n",
    "wd = 1e-6\n",
    "\n",
    "recorder = learner.Recorder()\n",
    "learn = learner.Learner(dls, model=model, wd=wd, loss_func=loss_func, cbs=recorder)\n",
    "#was: learn = basic_train.Learner(data=db, model=model, loss_func=loss_func, wd=wd, callback_fns=ActivationStats, bn_wd=bn_wd, true_wd=true_wd)"
   ]
  },
  {
   "cell_type": "markdown",
   "metadata": {
    "id": "oQC6xHnwATXL"
   },
   "source": [
    "## Alternative 2: Training a new network"
   ]
  },
  {
   "cell_type": "markdown",
   "metadata": {
    "id": "itnfADG4ATXL"
   },
   "source": [
    "Instead of using a pre-trained network, an alternative is to train a new network and use that instead. "
   ]
  },
  {
   "cell_type": "markdown",
   "metadata": {
    "id": "si47O23UATXL"
   },
   "source": [
    "First, we want to find the best learning rate. The learning rate is a hyper-paramater that sets how much the weights of the network will change each step with respect to the loss gradient.\n",
    "\n",
    "Then we plot the loss versus the learning rates. We're interested in finding a good order of magnitude of learning rate, so we plot with a log scale.\n",
    "\n",
    "A good value for the learning rates is then either:\n",
    "- one tenth of the minimum before the divergence\n",
    "- when the slope is the steepest"
   ]
  },
  {
   "cell_type": "code",
   "execution_count": 126,
   "metadata": {
    "id": "D4f9XWZhATXL",
    "outputId": "75605bb3-5855-44ee-8120-f4d4032feb85"
   },
   "outputs": [
    {
     "name": "stdout",
     "output_type": "stream",
     "text": [
      "Learning rate with the minimum loss: 0.0013182567432522773\n",
      "Learning rate with the steepest gradient: 0.0003981071640737355\n"
     ]
    },
    {
     "data": {
      "image/png": "[encoded data removed]",
      "text/plain": [
       "<Figure size 432x288 with 1 Axes>"
      ]
     },
     "metadata": {
      "needs_background": "light"
     },
     "output_type": "display_data"
    }
   ],
   "source": [
    "from fastai.callback import schedule\n",
    "\n",
    "lr_min, lr_steep = learn.lr_find()\n",
    "\n",
    "print('Learning rate with the minimum loss:', lr_min)\n",
    "print('Learning rate with the steepest gradient:', lr_steep)"
   ]
  },
  {
   "cell_type": "markdown",
   "metadata": {
    "id": "XUb8_BqNATXL"
   },
   "source": [
    "Now we want to run the training!\n",
    "\n",
    "User-chosen variables:\n",
    "- n_epoch: The number of epochs, i.e how many times the to run through all of the training data once (i.e the 1266046 entries, see cell 2)\n",
    "- lr: The learning rate. Either choose lr_min, lr_steep from above or set your own.\n"
   ]
  },
  {
   "cell_type": "code",
   "execution_count": 127,
   "metadata": {
    "id": "c01TZYZjATXL",
    "outputId": "774b00e9-5c59-4fbe-ec2e-68406014cc99",
    "scrolled": true
   },
   "outputs": [
    {
     "name": "stdout",
     "output_type": "stream",
     "text": [
      "[0, 0.050733402371406555, 0.03510257229208946, '00:00']\n",
      "[0, 0.050733402371406555, 0.03510257229208946, '00:00']\n",
      "[1, 0.0328022800385952, 0.02292674034833908, '00:00']\n",
      "[1, 0.0328022800385952, 0.02292674034833908, '00:00']\n",
      "[2, 0.016884028911590576, 0.008848011493682861, '00:00']\n",
      "[2, 0.016884028911590576, 0.008848011493682861, '00:00']\n",
      "[3, 0.008454657159745693, 0.004069326911121607, '00:00']\n",
      "[3, 0.008454657159745693, 0.004069326911121607, '00:00']\n",
      "[4, 0.0031459657475352287, 0.0010059211635962129, '00:00']\n",
      "[4, 0.0031459657475352287, 0.0010059211635962129, '00:00']\n",
      "[5, 0.0015025836182758212, 0.0009489231742918491, '00:00']\n",
      "[5, 0.0015025836182758212, 0.0009489231742918491, '00:00']\n",
      "[6, 0.0011014859192073345, 0.0009164056973531842, '00:00']\n",
      "[6, 0.0011014859192073345, 0.0009164056973531842, '00:00']\n",
      "[7, 0.0009762851404957473, 0.0009333676425740123, '00:00']\n",
      "[7, 0.0009762851404957473, 0.0009333676425740123, '00:00']\n",
      "[8, 0.0009088648366741836, 0.0008618704741820693, '00:00']\n",
      "[8, 0.0009088648366741836, 0.0008618704741820693, '00:00']\n",
      "[9, 0.0008960876148194075, 0.0008582735899835825, '00:00']\n",
      "[9, 0.0008960876148194075, 0.0008582735899835825, '00:00']\n",
      "[10, 0.0008611493976786733, 0.0008885098504833877, '00:00']\n",
      "[10, 0.0008611493976786733, 0.0008885098504833877, '00:00']\n",
      "[11, 0.0007638729293830693, 0.0006213549640960991, '00:00']\n",
      "[11, 0.0007638729293830693, 0.0006213549640960991, '00:00']\n",
      "[12, 0.0006583987851627171, 0.0004902176442556083, '00:00']\n",
      "[12, 0.0006583987851627171, 0.0004902176442556083, '00:00']\n",
      "[13, 0.0005822908715344965, 0.0008464408456347883, '00:00']\n",
      "[13, 0.0005822908715344965, 0.0008464408456347883, '00:00']\n",
      "[14, 0.0005327310063876212, 0.0005959741538390517, '00:00']\n",
      "[14, 0.0005327310063876212, 0.0005959741538390517, '00:00']\n",
      "[15, 0.0005197253776714206, 0.0005332758300937712, '00:00']\n",
      "[15, 0.0005197253776714206, 0.0005332758300937712, '00:00']\n",
      "[16, 0.0004914602031931281, 0.0004782269534189254, '00:00']\n",
      "[16, 0.0004914602031931281, 0.0004782269534189254, '00:00']\n",
      "[17, 0.0005081610870547593, 0.0003703041293192655, '00:00']\n",
      "[17, 0.0005081610870547593, 0.0003703041293192655, '00:00']\n",
      "[18, 0.0005083884461782873, 0.00036001225817017257, '00:00']\n",
      "[18, 0.0005083884461782873, 0.00036001225817017257, '00:00']\n",
      "[19, 0.0004570962628349662, 0.0008680333849042654, '00:00']\n",
      "[19, 0.0004570962628349662, 0.0008680333849042654, '00:00']\n",
      "[20, 0.00045779559877701104, 0.0003350783954374492, '00:00']\n",
      "[20, 0.00045779559877701104, 0.0003350783954374492, '00:00']\n",
      "[21, 0.00043816561810672283, 0.00028657930670306087, '00:00']\n",
      "[21, 0.00043816561810672283, 0.00028657930670306087, '00:00']\n",
      "[22, 0.000504816765896976, 0.000611369323451072, '00:00']\n",
      "[22, 0.000504816765896976, 0.000611369323451072, '00:00']\n",
      "[23, 0.0004122721729800105, 0.0003143978537991643, '00:00']\n",
      "[23, 0.0004122721729800105, 0.0003143978537991643, '00:00']\n",
      "[24, 0.0003682954702526331, 0.00024686192045919597, '00:00']\n",
      "[24, 0.0003682954702526331, 0.00024686192045919597, '00:00']\n",
      "[25, 0.00033577208523638546, 0.0003260810917709023, '00:00']\n",
      "[25, 0.00033577208523638546, 0.0003260810917709023, '00:00']\n",
      "[26, 0.0003192013828083873, 0.0002743228687904775, '00:00']\n",
      "[26, 0.0003192013828083873, 0.0002743228687904775, '00:00']\n",
      "[27, 0.00028978328919038177, 0.00038922313251532614, '00:00']\n",
      "[27, 0.00028978328919038177, 0.00038922313251532614, '00:00']\n",
      "[28, 0.0002714461588766426, 0.000366956606740132, '00:00']\n",
      "[28, 0.0002714461588766426, 0.000366956606740132, '00:00']\n",
      "[29, 0.0002534173254389316, 0.00020710758690256625, '00:00']\n",
      "[29, 0.0002534173254389316, 0.00020710758690256625, '00:00']\n",
      "[30, 0.00023164170852396637, 0.000211832404602319, '00:00']\n",
      "[30, 0.00023164170852396637, 0.000211832404602319, '00:00']\n",
      "[31, 0.0002046062727458775, 0.00021456708782352507, '00:00']\n",
      "[31, 0.0002046062727458775, 0.00021456708782352507, '00:00']\n",
      "[32, 0.00019152238382957876, 0.00015474641986656934, '00:00']\n",
      "[32, 0.00019152238382957876, 0.00015474641986656934, '00:00']\n",
      "[33, 0.00018905807519331574, 0.00018515551346354187, '00:00']\n",
      "[33, 0.00018905807519331574, 0.00018515551346354187, '00:00']\n",
      "[34, 0.00018681924848351628, 0.00022068734688218683, '00:00']\n",
      "[34, 0.00018681924848351628, 0.00022068734688218683, '00:00']\n",
      "[35, 0.00014973078214097768, 8.569913188694045e-05, '00:00']\n",
      "[35, 0.00014973078214097768, 8.569913188694045e-05, '00:00']\n",
      "[36, 0.00013214741193223745, 0.00011214920959901065, '00:00']\n",
      "[36, 0.00013214741193223745, 0.00011214920959901065, '00:00']\n",
      "[37, 0.00010736104741226882, 8.616466948296875e-05, '00:00']\n",
      "[37, 0.00010736104741226882, 8.616466948296875e-05, '00:00']\n",
      "[38, 0.00011317421012790874, 0.00020532283815555274, '00:00']\n",
      "[38, 0.00011317421012790874, 0.00020532283815555274, '00:00']\n",
      "[39, 0.000106777049950324, 6.554031278938055e-05, '00:00']\n",
      "[39, 0.000106777049950324, 6.554031278938055e-05, '00:00']\n",
      "[40, 8.352950681000948e-05, 5.613212488242425e-05, '00:00']\n",
      "[40, 8.352950681000948e-05, 5.613212488242425e-05, '00:00']\n",
      "[41, 7.472170545952395e-05, 5.740042979596183e-05, '00:00']\n",
      "[41, 7.472170545952395e-05, 5.740042979596183e-05, '00:00']\n",
      "[42, 8.823988900985569e-05, 9.620928176445886e-05, '00:00']\n",
      "[42, 8.823988900985569e-05, 9.620928176445886e-05, '00:00']\n",
      "[43, 6.072651012800634e-05, 4.3714790081139654e-05, '00:00']\n",
      "[43, 6.072651012800634e-05, 4.3714790081139654e-05, '00:00']\n",
      "[44, 6.323948036879301e-05, 8.6436681158375e-05, '00:00']\n",
      "[44, 6.323948036879301e-05, 8.6436681158375e-05, '00:00']\n",
      "[45, 5.234641503193416e-05, 9.656943439040333e-05, '00:00']\n",
      "[45, 5.234641503193416e-05, 9.656943439040333e-05, '00:00']\n",
      "[46, 6.617842154810205e-05, 7.102148811100051e-05, '00:00']\n",
      "[46, 6.617842154810205e-05, 7.102148811100051e-05, '00:00']\n",
      "[47, 5.371153019950725e-05, 4.3236130295554176e-05, '00:00']\n",
      "[47, 5.371153019950725e-05, 4.3236130295554176e-05, '00:00']\n",
      "[48, 4.515353066381067e-05, 5.7929824833991006e-05, '00:00']\n",
      "[48, 4.515353066381067e-05, 5.7929824833991006e-05, '00:00']\n",
      "[49, 4.101468584849499e-05, 3.5967659641755745e-05, '00:00']\n",
      "[49, 4.101468584849499e-05, 3.5967659641755745e-05, '00:00']\n",
      "[50, 3.724446287378669e-05, 3.060811650357209e-05, '00:00']\n",
      "[50, 3.724446287378669e-05, 3.060811650357209e-05, '00:00']\n",
      "[51, 3.70347588614095e-05, 2.4029963242355734e-05, '00:00']\n",
      "[51, 3.70347588614095e-05, 2.4029963242355734e-05, '00:00']\n",
      "[52, 3.0956449336372316e-05, 1.9051538401981816e-05, '00:00']\n",
      "[52, 3.0956449336372316e-05, 1.9051538401981816e-05, '00:00']\n",
      "[53, 2.9834889573976398e-05, 2.3620361389475875e-05, '00:00']\n",
      "[53, 2.9834889573976398e-05, 2.3620361389475875e-05, '00:00']\n",
      "[54, 3.002466655743774e-05, 3.0122157113510184e-05, '00:00']\n",
      "[54, 3.002466655743774e-05, 3.0122157113510184e-05, '00:00']\n",
      "[55, 2.2911815904080868e-05, 1.4604471289203502e-05, '00:00']\n",
      "[55, 2.2911815904080868e-05, 1.4604471289203502e-05, '00:00']\n",
      "[56, 2.2612104658037424e-05, 2.152652814402245e-05, '00:00']\n",
      "[56, 2.2612104658037424e-05, 2.152652814402245e-05, '00:00']\n",
      "[57, 2.041415609710384e-05, 1.4037873370398302e-05, '00:00']\n",
      "[57, 2.041415609710384e-05, 1.4037873370398302e-05, '00:00']\n",
      "[58, 1.9785871700150892e-05, 1.7096055671572685e-05, '00:00']\n",
      "[58, 1.9785871700150892e-05, 1.7096055671572685e-05, '00:00']\n",
      "[59, 1.7859461877378635e-05, 1.563567275297828e-05, '00:00']\n",
      "[59, 1.7859461877378635e-05, 1.563567275297828e-05, '00:00']\n",
      "[60, 1.5855464880587533e-05, 9.132109880738426e-06, '00:00']\n",
      "[60, 1.5855464880587533e-05, 9.132109880738426e-06, '00:00']\n",
      "[61, 1.333818454440916e-05, 1.4862664102111012e-05, '00:00']\n",
      "[61, 1.333818454440916e-05, 1.4862664102111012e-05, '00:00']\n",
      "[62, 1.3152751307643484e-05, 9.835805030888878e-06, '00:00']\n",
      "[62, 1.3152751307643484e-05, 9.835805030888878e-06, '00:00']\n",
      "[63, 1.186641111416975e-05, 8.910472388379276e-06, '00:00']\n",
      "[63, 1.186641111416975e-05, 8.910472388379276e-06, '00:00']\n",
      "[64, 1.071349652193021e-05, 8.736210475035477e-06, '00:00']\n",
      "[64, 1.071349652193021e-05, 8.736210475035477e-06, '00:00']\n",
      "[65, 1.0126378583663609e-05, 8.27504936751211e-06, '00:00']\n",
      "[65, 1.0126378583663609e-05, 8.27504936751211e-06, '00:00']\n",
      "[66, 8.260745744337328e-06, 8.507025995641015e-06, '00:00']\n",
      "[66, 8.260745744337328e-06, 8.507025995641015e-06, '00:00']\n",
      "[67, 8.003752554941457e-06, 1.1035991519747768e-05, '00:00']\n",
      "[67, 8.003752554941457e-06, 1.1035991519747768e-05, '00:00']\n",
      "[68, 7.353305591095705e-06, 6.907720489834901e-06, '00:00']\n",
      "[68, 7.353305591095705e-06, 6.907720489834901e-06, '00:00']\n"
     ]
    },
    {
     "name": "stdout",
     "output_type": "stream",
     "text": [
      "[69, 6.770037089154357e-06, 5.260617399471812e-06, '00:00']\n",
      "[69, 6.770037089154357e-06, 5.260617399471812e-06, '00:00']\n",
      "[70, 6.502322321466636e-06, 6.887360541441012e-06, '00:00']\n",
      "[70, 6.502322321466636e-06, 6.887360541441012e-06, '00:00']\n",
      "[71, 5.851583409821615e-06, 4.970995178155135e-06, '00:00']\n",
      "[71, 5.851583409821615e-06, 4.970995178155135e-06, '00:00']\n",
      "[72, 5.370397957449313e-06, 5.775838872068562e-06, '00:00']\n",
      "[72, 5.370397957449313e-06, 5.775838872068562e-06, '00:00']\n",
      "[73, 5.126958058099262e-06, 4.225135853630491e-06, '00:00']\n",
      "[73, 5.126958058099262e-06, 4.225135853630491e-06, '00:00']\n",
      "[74, 4.806467131857062e-06, 5.009909727959894e-06, '00:00']\n",
      "[74, 4.806467131857062e-06, 5.009909727959894e-06, '00:00']\n",
      "[75, 4.637840902432799e-06, 4.3887894207728095e-06, '00:00']\n",
      "[75, 4.637840902432799e-06, 4.3887894207728095e-06, '00:00']\n",
      "[76, 4.310062649892643e-06, 4.103063020011177e-06, '00:00']\n",
      "[76, 4.310062649892643e-06, 4.103063020011177e-06, '00:00']\n",
      "[77, 4.17693490817328e-06, 4.606084075930994e-06, '00:00']\n",
      "[77, 4.17693490817328e-06, 4.606084075930994e-06, '00:00']\n",
      "[78, 3.859092430502642e-06, 3.615050218286342e-06, '00:00']\n",
      "[78, 3.859092430502642e-06, 3.615050218286342e-06, '00:00']\n",
      "[79, 3.868968633469194e-06, 3.92511310565169e-06, '00:00']\n",
      "[79, 3.868968633469194e-06, 3.92511310565169e-06, '00:00']\n",
      "[80, 3.8624543776677456e-06, 3.6272160741646076e-06, '00:00']\n",
      "[80, 3.8624543776677456e-06, 3.6272160741646076e-06, '00:00']\n",
      "[81, 3.6292617551225703e-06, 3.3509379591123434e-06, '00:00']\n",
      "[81, 3.6292617551225703e-06, 3.3509379591123434e-06, '00:00']\n",
      "[82, 3.3956152947212104e-06, 3.2805824048409704e-06, '00:00']\n",
      "[82, 3.3956152947212104e-06, 3.2805824048409704e-06, '00:00']\n",
      "[83, 3.3802014058892382e-06, 3.2199711768043926e-06, '00:00']\n",
      "[83, 3.3802014058892382e-06, 3.2199711768043926e-06, '00:00']\n",
      "[84, 3.265404302510433e-06, 3.2461248338222504e-06, '00:00']\n",
      "[84, 3.265404302510433e-06, 3.2461248338222504e-06, '00:00']\n",
      "[85, 3.1130321076489054e-06, 3.0446879009105032e-06, '00:00']\n",
      "[85, 3.1130321076489054e-06, 3.0446879009105032e-06, '00:00']\n",
      "[86, 3.008717840202735e-06, 3.0514302125084214e-06, '00:00']\n",
      "[86, 3.008717840202735e-06, 3.0514302125084214e-06, '00:00']\n",
      "[87, 2.995881914102938e-06, 2.8957388167327736e-06, '00:00']\n",
      "[87, 2.995881914102938e-06, 2.8957388167327736e-06, '00:00']\n",
      "[88, 2.9339134925976396e-06, 2.8718334306176985e-06, '00:00']\n",
      "[88, 2.9339134925976396e-06, 2.8718334306176985e-06, '00:00']\n",
      "[89, 2.941773345810361e-06, 2.915153118010494e-06, '00:00']\n",
      "[89, 2.941773345810361e-06, 2.915153118010494e-06, '00:00']\n",
      "[90, 2.9969455681566615e-06, 2.865248006855836e-06, '00:00']\n",
      "[90, 2.9969455681566615e-06, 2.865248006855836e-06, '00:00']\n",
      "[91, 2.8128185931564076e-06, 2.8164120067231124e-06, '00:00']\n",
      "[91, 2.8128185931564076e-06, 2.8164120067231124e-06, '00:00']\n",
      "[92, 2.84034172182146e-06, 2.7973092073807493e-06, '00:00']\n",
      "[92, 2.84034172182146e-06, 2.7973092073807493e-06, '00:00']\n",
      "[93, 2.854026206478011e-06, 2.8183471840748098e-06, '00:00']\n",
      "[93, 2.854026206478011e-06, 2.8183471840748098e-06, '00:00']\n",
      "[94, 2.782783667498734e-06, 2.7317703370499657e-06, '00:00']\n",
      "[94, 2.782783667498734e-06, 2.7317703370499657e-06, '00:00']\n",
      "[95, 2.8134927561040968e-06, 2.7179605694982456e-06, '00:00']\n",
      "[95, 2.8134927561040968e-06, 2.7179605694982456e-06, '00:00']\n",
      "[96, 2.7072014745499473e-06, 2.7129281079396605e-06, '00:00']\n",
      "[96, 2.7072014745499473e-06, 2.7129281079396605e-06, '00:00']\n",
      "[97, 2.7441603833722183e-06, 2.709122554733767e-06, '00:00']\n",
      "[97, 2.7441603833722183e-06, 2.709122554733767e-06, '00:00']\n",
      "[98, 2.7060211778007215e-06, 2.700161530810874e-06, '00:00']\n",
      "[98, 2.7060211778007215e-06, 2.700161530810874e-06, '00:00']\n",
      "[99, 2.746481413851143e-06, 2.700807499422808e-06, '00:00']\n",
      "[99, 2.746481413851143e-06, 2.700807499422808e-06, '00:00']\n",
      "Training took 65.51003999999966 seconds\n"
     ]
    }
   ],
   "source": [
    "import time\n",
    "\n",
    "start = time.perf_counter() # Starts timer\n",
    "learn.fit_one_cycle(n_epoch=100, lr_max=lr_min)\n",
    "end = time.perf_counter() # Ends timer\n",
    "delta_t = end - start\n",
    "print('Training took', delta_t, 'seconds')"
   ]
  },
  {
   "cell_type": "markdown",
   "metadata": {
    "id": "OoP9CzsDATXL"
   },
   "source": [
    "Then we plot the loss as a function of batches and epochs to check if we reach a plateau."
   ]
  },
  {
   "cell_type": "code",
   "execution_count": 100,
   "metadata": {
    "id": "A4zXo50xATXL",
    "outputId": "98b8ea62-be67-4685-bb3a-c274d91bac33"
   },
   "outputs": [
    {
     "data": {
      "image/png": "[encoded data removed]",
      "text/plain": [
       "<Figure size 432x288 with 1 Axes>"
      ]
     },
     "metadata": {
      "needs_background": "light"
     },
     "output_type": "display_data"
    }
   ],
   "source": [
    "recorder.plot_loss()"
   ]
  },
  {
   "cell_type": "markdown",
   "metadata": {
    "id": "Hh6RHBb0ATXL"
   },
   "source": [
    "Then we evaluate the MSE on this network - it should be of the order of 0.001 or less if all has gone well...if it has not trained as well (note the pesky 0-mass peak above...) then it's going to be a bit higher."
   ]
  },
  {
   "cell_type": "code",
   "execution_count": 71,
   "metadata": {
    "id": "xt0zH3lfATXL",
    "outputId": "33703707-8521-4442-d5b8-006455b4583c"
   },
   "outputs": [
    {
     "data": {
      "text/plain": [
       "(#1) [4.745837031805422e-06]"
      ]
     },
     "execution_count": 71,
     "metadata": {},
     "output_type": "execute_result"
    }
   ],
   "source": [
    "learn.validate()"
   ]
  },
  {
   "cell_type": "markdown",
   "metadata": {
    "id": "v-ANi9b2ATXM"
   },
   "source": [
    "Let's plot all of this, with ratios (thanks to code by Erik Wallin)"
   ]
  },
  {
   "cell_type": "markdown",
   "metadata": {
    "id": "ZARWvOWVATXM"
   },
   "source": [
    "## Plotting the outputs of the network"
   ]
  },
  {
   "cell_type": "markdown",
   "metadata": {
    "id": "gvSPQXNeATXM"
   },
   "source": [
    "Lazy-save of our output files (they'll also be on screen)"
   ]
  },
  {
   "cell_type": "code",
   "execution_count": 72,
   "metadata": {
    "id": "fJndjJwlATXM"
   },
   "outputs": [],
   "source": [
    "import os\n",
    "save_dir = \"plotOutput\"\n",
    "if not os.path.exists(save_dir):\n",
    "    os.makedirs(save_dir)"
   ]
  },
  {
   "cell_type": "markdown",
   "metadata": {
    "id": "J0vXfPOiATXM"
   },
   "source": [
    "A function in case we want to un-normalize and get back to physical quantities..."
   ]
  },
  {
   "cell_type": "code",
   "execution_count": 73,
   "metadata": {
    "id": "ofyoPjtgATXM"
   },
   "outputs": [],
   "source": [
    "def custom_unnormalize(df):\n",
    "    df['eta'] = df['eta'] * 5\n",
    "    df['phi'] = df['phi'] * 3\n",
    "    df['E'] = 10**df['E']\n",
    "    df['pt'] = 10**(df['pt'])\n",
    "    return df"
   ]
  },
  {
   "cell_type": "markdown",
   "metadata": {
    "id": "Vw7fRTA5ATXM"
   },
   "source": [
    "Make the histograms from the dataset..."
   ]
  },
  {
   "cell_type": "code",
   "execution_count": 74,
   "metadata": {
    "id": "uCuOZkc6ATXM",
    "outputId": "a13fd36a-d30c-4867-d8b9-95382a21264e"
   },
   "outputs": [
    {
     "data": {
      "image/png": "[encoded data removed]",
      "text/plain": [
       "<Figure size 432x288 with 1 Axes>"
      ]
     },
     "metadata": {
      "needs_background": "light"
     },
     "output_type": "display_data"
    },
    {
     "data": {
      "image/png": "[encoded data removed]",
      "text/plain": [
       "<Figure size 432x288 with 1 Axes>"
      ]
     },
     "metadata": {
      "needs_background": "light"
     },
     "output_type": "display_data"
    },
    {
     "data": {
      "image/png": "[encoded data removed]",
      "text/plain": [
       "<Figure size 432x288 with 1 Axes>"
      ]
     },
     "metadata": {
      "needs_background": "light"
     },
     "output_type": "display_data"
    },
    {
     "data": {
      "image/png": "[encoded data removed]",
      "text/plain": [
       "<Figure size 432x288 with 1 Axes>"
      ]
     },
     "metadata": {
      "needs_background": "light"
     },
     "output_type": "display_data"
    }
   ],
   "source": [
    "import numpy as np\n",
    "\n",
    "plt.close('all')\n",
    "unit_list = ['[GeV]', '[rad]', '[rad]', '[GeV]']\n",
    "variable_list = [r'$p_T$', r'$\\eta$', r'$\\phi$', r'$E$']\n",
    "line_style = ['--', '-']\n",
    "colors = ['orange', 'c']\n",
    "markers = ['*', 's']\n",
    "\n",
    "model.to('cpu')\n",
    "\n",
    "save = False # Option to save figure\n",
    "\n",
    "# Histograms\n",
    "idxs = (0, 100000)  # Choose events to compare\n",
    "data = torch.tensor(test[idxs[0]:idxs[1]].values, dtype=torch.float)\n",
    "#data = torch.tensor(test[idxs[0]:idxs[1]].values, dtype=torch.float).double()\n",
    "pred = model(data)\n",
    "pred = pred.detach().numpy()\n",
    "data = data.detach().numpy()\n",
    "\n",
    "data_df = pd.DataFrame(data, columns=test.columns)\n",
    "pred_df = pd.DataFrame(pred, columns=test.columns)\n",
    "\n",
    "unnormalized_data_df = custom_unnormalize(data_df)\n",
    "unnormalized_pred_df = custom_unnormalize(pred_df)    \n",
    "    \n",
    "alph = 0.8\n",
    "n_bins = 200\n",
    "for kk in np.arange(4):\n",
    "    plt.figure()\n",
    "    n_hist_data, bin_edges, _ = plt.hist(data[:, kk], color=colors[1], label='Input', alpha=1, bins=n_bins)\n",
    "    n_hist_pred, _, _ = plt.hist(pred[:, kk], color=colors[0], label='Output', alpha=alph, bins=bin_edges)\n",
    "    plt.suptitle(test.columns[kk])\n",
    "    plt.xlabel(test.columns[kk])\n",
    "    plt.ylabel('Number of events')\n",
    "    # ms.sciy()\n",
    "    plt.yscale('log')\n",
    "    if save:\n",
    "        plt.savefig(os.path.join(save_dir,test.columns[kk]+'.png'))\n",
    "    plt.legend()"
   ]
  },
  {
   "cell_type": "code",
   "execution_count": 77,
   "metadata": {
    "id": "GFhoFBcbATXM"
   },
   "outputs": [],
   "source": [
    "def getRatio(bin1,bin2):\n",
    "    bins = []\n",
    "    for b1,b2 in zip(bin1,bin2):\n",
    "        if b1==0 and b2==0:\n",
    "            bins.append(0.)\n",
    "        elif b2==0:\n",
    "            bins.append(None)\n",
    "        else:\n",
    "            bins.append((float(b2)-float(b1))/b1)\n",
    "    return bins   \n",
    "\n",
    "rat = getRatio(n_hist_data,n_hist_pred)\n",
    "#print(rat)"
   ]
  },
  {
   "cell_type": "code",
   "execution_count": null,
   "metadata": {},
   "outputs": [],
   "source": []
  }
 ],
 "metadata": {
  "colab": {
   "name": "TLA_4D_Example.ipynb",
   "provenance": []
  },
  "kernelspec": {
   "display_name": "Python 3",
   "language": "python",
   "name": "python3"
  },
  "language_info": {
   "codemirror_mode": {
    "name": "ipython",
    "version": 3
   },
   "file_extension": ".py",
   "mimetype": "text/x-python",
   "name": "python",
   "nbconvert_exporter": "python",
   "pygments_lexer": "ipython3",
   "version": "3.8.5"
  }
 },
 "nbformat": 4,
 "nbformat_minor": 1
}
