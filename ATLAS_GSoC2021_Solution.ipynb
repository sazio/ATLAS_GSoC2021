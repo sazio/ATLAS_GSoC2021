{
 "cells": [
  {
   "cell_type": "markdown",
   "metadata": {
    "id": "HxgeHZOLATXG"
   },
   "source": [
    "# Proposed Solution - Evaluation Exercise for GSoC 2021\n",
    "## Deep autoencoders for ATLAS data compression"
   ]
  },
  {
   "cell_type": "markdown",
   "metadata": {},
   "source": [
    "### Preprocessing Data\n",
    "Semicolon becomes comma, there was an incongruency in original data"
   ]
  },
  {
   "cell_type": "code",
   "execution_count": 1,
   "metadata": {},
   "outputs": [],
   "source": [
    "pre_data_path = 'Data/monojet_Zp2000.0_DM_50.0_chan3.csv'\n",
    "text_file = open(pre_data_path, \"r\")\n",
    "text_file = ''.join([i for i in text_file]) \\\n",
    "    .replace(\";\", \",\")\n",
    "\n",
    "file_to_write = open(\"Data/clean_data.csv\",\"w\")\n",
    "file_to_write.writelines(text_file)\n",
    "file_to_write.close()"
   ]
  },
  {
   "cell_type": "markdown",
   "metadata": {},
   "source": [
    "Forcing the number of columns in order to avoid tokenization errors or either to remove some data"
   ]
  },
  {
   "cell_type": "code",
   "execution_count": 2,
   "metadata": {},
   "outputs": [
    {
     "data": {
      "text/html": [
       "<div>\n",
       "<style scoped>\n",
       "    .dataframe tbody tr th:only-of-type {\n",
       "        vertical-align: middle;\n",
       "    }\n",
       "\n",
       "    .dataframe tbody tr th {\n",
       "        vertical-align: top;\n",
       "    }\n",
       "\n",
       "    .dataframe thead th {\n",
       "        text-align: right;\n",
       "    }\n",
       "</style>\n",
       "<table border=\"1\" class=\"dataframe\">\n",
       "  <thead>\n",
       "    <tr style=\"text-align: right;\">\n",
       "      <th></th>\n",
       "      <th>event ID</th>\n",
       "      <th>process ID</th>\n",
       "      <th>event weight</th>\n",
       "      <th>MET</th>\n",
       "      <th>METphi</th>\n",
       "      <th>obj1</th>\n",
       "      <th>E1</th>\n",
       "      <th>pt1</th>\n",
       "      <th>eta1</th>\n",
       "      <th>phi1</th>\n",
       "      <th>...</th>\n",
       "      <th>obj11</th>\n",
       "      <th>E11</th>\n",
       "      <th>pt11</th>\n",
       "      <th>eta11</th>\n",
       "      <th>phi11</th>\n",
       "      <th>obj12</th>\n",
       "      <th>E13</th>\n",
       "      <th>pt14</th>\n",
       "      <th>eta15</th>\n",
       "      <th>phi16</th>\n",
       "    </tr>\n",
       "  </thead>\n",
       "  <tbody>\n",
       "    <tr>\n",
       "      <th>0</th>\n",
       "      <td>354</td>\n",
       "      <td>monojet_Zp2000.0_DM_50.0</td>\n",
       "      <td>0.000024</td>\n",
       "      <td>832841.0</td>\n",
       "      <td>-1.22431</td>\n",
       "      <td>b</td>\n",
       "      <td>947383.0</td>\n",
       "      <td>824498.0</td>\n",
       "      <td>-0.523103</td>\n",
       "      <td>1.644210</td>\n",
       "      <td>...</td>\n",
       "      <td>NaN</td>\n",
       "      <td>NaN</td>\n",
       "      <td>NaN</td>\n",
       "      <td>NaN</td>\n",
       "      <td>NaN</td>\n",
       "      <td>NaN</td>\n",
       "      <td>NaN</td>\n",
       "      <td>NaN</td>\n",
       "      <td>NaN</td>\n",
       "      <td>NaN</td>\n",
       "    </tr>\n",
       "    <tr>\n",
       "      <th>1</th>\n",
       "      <td>354</td>\n",
       "      <td>monojet_Zp2000.0_DM_50.0</td>\n",
       "      <td>0.000024</td>\n",
       "      <td>732115.0</td>\n",
       "      <td>1.17245</td>\n",
       "      <td>j</td>\n",
       "      <td>1069460.0</td>\n",
       "      <td>751597.0</td>\n",
       "      <td>0.858186</td>\n",
       "      <td>-1.842170</td>\n",
       "      <td>...</td>\n",
       "      <td>NaN</td>\n",
       "      <td>NaN</td>\n",
       "      <td>NaN</td>\n",
       "      <td>NaN</td>\n",
       "      <td>NaN</td>\n",
       "      <td>NaN</td>\n",
       "      <td>NaN</td>\n",
       "      <td>NaN</td>\n",
       "      <td>NaN</td>\n",
       "      <td>NaN</td>\n",
       "    </tr>\n",
       "    <tr>\n",
       "      <th>2</th>\n",
       "      <td>354</td>\n",
       "      <td>monojet_Zp2000.0_DM_50.0</td>\n",
       "      <td>0.000024</td>\n",
       "      <td>1056280.0</td>\n",
       "      <td>-3.06744</td>\n",
       "      <td>j</td>\n",
       "      <td>676000.0</td>\n",
       "      <td>640429.0</td>\n",
       "      <td>0.330450</td>\n",
       "      <td>0.704554</td>\n",
       "      <td>...</td>\n",
       "      <td>NaN</td>\n",
       "      <td>NaN</td>\n",
       "      <td>NaN</td>\n",
       "      <td>NaN</td>\n",
       "      <td>NaN</td>\n",
       "      <td>NaN</td>\n",
       "      <td>NaN</td>\n",
       "      <td>NaN</td>\n",
       "      <td>NaN</td>\n",
       "      <td>NaN</td>\n",
       "    </tr>\n",
       "    <tr>\n",
       "      <th>3</th>\n",
       "      <td>354</td>\n",
       "      <td>monojet_Zp2000.0_DM_50.0</td>\n",
       "      <td>0.000024</td>\n",
       "      <td>631781.0</td>\n",
       "      <td>1.64181</td>\n",
       "      <td>j</td>\n",
       "      <td>936707.0</td>\n",
       "      <td>616229.0</td>\n",
       "      <td>0.973383</td>\n",
       "      <td>-1.565920</td>\n",
       "      <td>...</td>\n",
       "      <td>NaN</td>\n",
       "      <td>NaN</td>\n",
       "      <td>NaN</td>\n",
       "      <td>NaN</td>\n",
       "      <td>NaN</td>\n",
       "      <td>NaN</td>\n",
       "      <td>NaN</td>\n",
       "      <td>NaN</td>\n",
       "      <td>NaN</td>\n",
       "      <td>NaN</td>\n",
       "    </tr>\n",
       "    <tr>\n",
       "      <th>4</th>\n",
       "      <td>354</td>\n",
       "      <td>monojet_Zp2000.0_DM_50.0</td>\n",
       "      <td>0.000024</td>\n",
       "      <td>457316.0</td>\n",
       "      <td>-1.87536</td>\n",
       "      <td>j</td>\n",
       "      <td>640313.0</td>\n",
       "      <td>589524.0</td>\n",
       "      <td>0.390749</td>\n",
       "      <td>1.237340</td>\n",
       "      <td>...</td>\n",
       "      <td>NaN</td>\n",
       "      <td>NaN</td>\n",
       "      <td>NaN</td>\n",
       "      <td>NaN</td>\n",
       "      <td>NaN</td>\n",
       "      <td>NaN</td>\n",
       "      <td>NaN</td>\n",
       "      <td>NaN</td>\n",
       "      <td>NaN</td>\n",
       "      <td>NaN</td>\n",
       "    </tr>\n",
       "  </tbody>\n",
       "</table>\n",
       "<p>5 rows × 65 columns</p>\n",
       "</div>"
      ],
      "text/plain": [
       "   event ID                process ID  event weight        MET   METphi obj1  \\\n",
       "0       354  monojet_Zp2000.0_DM_50.0      0.000024   832841.0 -1.22431    b   \n",
       "1       354  monojet_Zp2000.0_DM_50.0      0.000024   732115.0  1.17245    j   \n",
       "2       354  monojet_Zp2000.0_DM_50.0      0.000024  1056280.0 -3.06744    j   \n",
       "3       354  monojet_Zp2000.0_DM_50.0      0.000024   631781.0  1.64181    j   \n",
       "4       354  monojet_Zp2000.0_DM_50.0      0.000024   457316.0 -1.87536    j   \n",
       "\n",
       "          E1       pt1      eta1      phi1  ... obj11  E11  pt11  eta11  \\\n",
       "0   947383.0  824498.0 -0.523103  1.644210  ...   NaN  NaN   NaN    NaN   \n",
       "1  1069460.0  751597.0  0.858186 -1.842170  ...   NaN  NaN   NaN    NaN   \n",
       "2   676000.0  640429.0  0.330450  0.704554  ...   NaN  NaN   NaN    NaN   \n",
       "3   936707.0  616229.0  0.973383 -1.565920  ...   NaN  NaN   NaN    NaN   \n",
       "4   640313.0  589524.0  0.390749  1.237340  ...   NaN  NaN   NaN    NaN   \n",
       "\n",
       "   phi11 obj12  E13  pt14  eta15  phi16  \n",
       "0    NaN   NaN  NaN   NaN    NaN    NaN  \n",
       "1    NaN   NaN  NaN   NaN    NaN    NaN  \n",
       "2    NaN   NaN  NaN   NaN    NaN    NaN  \n",
       "3    NaN   NaN  NaN   NaN    NaN    NaN  \n",
       "4    NaN   NaN  NaN   NaN    NaN    NaN  \n",
       "\n",
       "[5 rows x 65 columns]"
      ]
     },
     "execution_count": 2,
     "metadata": {},
     "output_type": "execute_result"
    }
   ],
   "source": [
    "import pandas as pd\n",
    "import numpy as np \n",
    "\n",
    "data_path = 'Data/clean_data.csv'\n",
    "col_names = [\"event ID\", \"process ID\", \"event weight\", \"MET\", \"METphi\", \n",
    "             \"obj1\", \"E1\", \"pt1\", \"eta1\",\"phi1\", \"obj2\", \"E2\", \"pt2\", \"eta2\", \"phi2\",\n",
    "             \"obj3\", \"E3\", \"pt3\", \"eta3\",\"phi3\", \"obj4\", \"E4\", \"pt4\", \"eta4\", \"phi4\",\n",
    "             \"obj5\", \"E5\", \"pt5\", \"eta5\",\"phi5\", \"obj6\", \"E6\", \"pt6\", \"eta6\", \"phi6\",\n",
    "             \"obj7\", \"E7\", \"pt7\", \"eta7\", \"phi7\", \"obj8\", \"E8\", \"pt8\", \"eta8\", \"phi8\", \n",
    "             \"obj9\", \"E9\", \"pt9\", \"eta9\" , \"phi9\", \"obj10\", \"E10\", \"pt10\", \"eta10\", \"phi10\",\n",
    "             \"obj11\", \"E11\", \"pt11\", \"eta11\" , \"phi11\", \"obj12\", \"E13\", \"pt14\", \"eta15\" , \"phi16\"]\n",
    "\n",
    "data = pd.read_csv(data_path,names = col_names, header = None)\n",
    "data.head()"
   ]
  },
  {
   "cell_type": "markdown",
   "metadata": {},
   "source": [
    "Removing the first 5 columns (are not necessary for our purposes). After that, vertically stacking the other columns by keeping only \"j\" objects as needed"
   ]
  },
  {
   "cell_type": "code",
   "execution_count": 3,
   "metadata": {},
   "outputs": [],
   "source": [
    "data = data.iloc[:,5:]\n",
    "data_arr = []\n",
    "for i in range(0, data.shape[1], 5):\n",
    "    data_arr.append(data[data.iloc[:,i] ==\"j\"].iloc[:,i:i+5])\n"
   ]
  },
  {
   "cell_type": "code",
   "execution_count": 4,
   "metadata": {},
   "outputs": [],
   "source": [
    "data_final = data_arr[0]\n",
    "for i in range(1, len(data_arr)):\n",
    "    data_arr[i].columns = data_arr[0].columns\n",
    "    data_final = pd.concat([data_final,data_arr[i]], ignore_index = True)    \n",
    "    \n",
    "data_final.columns = [\"obj\", \"E\", \"pt\", \"eta\", \"phi\"]"
   ]
  },
  {
   "cell_type": "code",
   "execution_count": 5,
   "metadata": {},
   "outputs": [
    {
     "data": {
      "text/html": [
       "<div>\n",
       "<style scoped>\n",
       "    .dataframe tbody tr th:only-of-type {\n",
       "        vertical-align: middle;\n",
       "    }\n",
       "\n",
       "    .dataframe tbody tr th {\n",
       "        vertical-align: top;\n",
       "    }\n",
       "\n",
       "    .dataframe thead th {\n",
       "        text-align: right;\n",
       "    }\n",
       "</style>\n",
       "<table border=\"1\" class=\"dataframe\">\n",
       "  <thead>\n",
       "    <tr style=\"text-align: right;\">\n",
       "      <th></th>\n",
       "      <th>obj</th>\n",
       "      <th>E</th>\n",
       "      <th>pt</th>\n",
       "      <th>eta</th>\n",
       "      <th>phi</th>\n",
       "    </tr>\n",
       "  </thead>\n",
       "  <tbody>\n",
       "    <tr>\n",
       "      <th>0</th>\n",
       "      <td>j</td>\n",
       "      <td>1069460.0</td>\n",
       "      <td>751597.0</td>\n",
       "      <td>0.858186</td>\n",
       "      <td>-1.842170</td>\n",
       "    </tr>\n",
       "    <tr>\n",
       "      <th>1</th>\n",
       "      <td>j</td>\n",
       "      <td>676000.0</td>\n",
       "      <td>640429.0</td>\n",
       "      <td>0.330450</td>\n",
       "      <td>0.704554</td>\n",
       "    </tr>\n",
       "    <tr>\n",
       "      <th>2</th>\n",
       "      <td>j</td>\n",
       "      <td>936707.0</td>\n",
       "      <td>616229.0</td>\n",
       "      <td>0.973383</td>\n",
       "      <td>-1.565920</td>\n",
       "    </tr>\n",
       "    <tr>\n",
       "      <th>3</th>\n",
       "      <td>j</td>\n",
       "      <td>640313.0</td>\n",
       "      <td>589524.0</td>\n",
       "      <td>0.390749</td>\n",
       "      <td>1.237340</td>\n",
       "    </tr>\n",
       "    <tr>\n",
       "      <th>4</th>\n",
       "      <td>j</td>\n",
       "      <td>583373.0</td>\n",
       "      <td>545730.0</td>\n",
       "      <td>0.364057</td>\n",
       "      <td>-1.607320</td>\n",
       "    </tr>\n",
       "  </tbody>\n",
       "</table>\n",
       "</div>"
      ],
      "text/plain": [
       "  obj          E        pt       eta       phi\n",
       "0   j  1069460.0  751597.0  0.858186 -1.842170\n",
       "1   j   676000.0  640429.0  0.330450  0.704554\n",
       "2   j   936707.0  616229.0  0.973383 -1.565920\n",
       "3   j   640313.0  589524.0  0.390749  1.237340\n",
       "4   j   583373.0  545730.0  0.364057 -1.607320"
      ]
     },
     "execution_count": 5,
     "metadata": {},
     "output_type": "execute_result"
    }
   ],
   "source": [
    "data_final.head()"
   ]
  },
  {
   "cell_type": "code",
   "execution_count": 6,
   "metadata": {},
   "outputs": [
    {
     "data": {
      "text/html": [
       "<div>\n",
       "<style scoped>\n",
       "    .dataframe tbody tr th:only-of-type {\n",
       "        vertical-align: middle;\n",
       "    }\n",
       "\n",
       "    .dataframe tbody tr th {\n",
       "        vertical-align: top;\n",
       "    }\n",
       "\n",
       "    .dataframe thead th {\n",
       "        text-align: right;\n",
       "    }\n",
       "</style>\n",
       "<table border=\"1\" class=\"dataframe\">\n",
       "  <thead>\n",
       "    <tr style=\"text-align: right;\">\n",
       "      <th></th>\n",
       "      <th>E</th>\n",
       "      <th>pt</th>\n",
       "      <th>eta</th>\n",
       "      <th>phi</th>\n",
       "    </tr>\n",
       "  </thead>\n",
       "  <tbody>\n",
       "    <tr>\n",
       "      <th>0</th>\n",
       "      <td>1069460.0</td>\n",
       "      <td>751597.0</td>\n",
       "      <td>0.858186</td>\n",
       "      <td>-1.842170</td>\n",
       "    </tr>\n",
       "    <tr>\n",
       "      <th>1</th>\n",
       "      <td>676000.0</td>\n",
       "      <td>640429.0</td>\n",
       "      <td>0.330450</td>\n",
       "      <td>0.704554</td>\n",
       "    </tr>\n",
       "    <tr>\n",
       "      <th>2</th>\n",
       "      <td>936707.0</td>\n",
       "      <td>616229.0</td>\n",
       "      <td>0.973383</td>\n",
       "      <td>-1.565920</td>\n",
       "    </tr>\n",
       "    <tr>\n",
       "      <th>3</th>\n",
       "      <td>640313.0</td>\n",
       "      <td>589524.0</td>\n",
       "      <td>0.390749</td>\n",
       "      <td>1.237340</td>\n",
       "    </tr>\n",
       "    <tr>\n",
       "      <th>4</th>\n",
       "      <td>583373.0</td>\n",
       "      <td>545730.0</td>\n",
       "      <td>0.364057</td>\n",
       "      <td>-1.607320</td>\n",
       "    </tr>\n",
       "  </tbody>\n",
       "</table>\n",
       "</div>"
      ],
      "text/plain": [
       "           E        pt       eta       phi\n",
       "0  1069460.0  751597.0  0.858186 -1.842170\n",
       "1   676000.0  640429.0  0.330450  0.704554\n",
       "2   936707.0  616229.0  0.973383 -1.565920\n",
       "3   640313.0  589524.0  0.390749  1.237340\n",
       "4   583373.0  545730.0  0.364057 -1.607320"
      ]
     },
     "execution_count": 6,
     "metadata": {},
     "output_type": "execute_result"
    }
   ],
   "source": [
    "data_final = data_final.iloc[:,1:]\n",
    "data_final.head()"
   ]
  },
  {
   "cell_type": "markdown",
   "metadata": {},
   "source": [
    "### Train / Test Splitting\n",
    "Technically speaking, before normalization we should separate training data and validation data. We are acting like they are real test data, this basically means that - in principle - it wouldn't be possible to operate a Min Max Scaling effectively because it might happen that a new data point has some feature-value which is larger than the previous maximum value. \n",
    "\n",
    "Here we do a regular train / validation set split, I decided to keep the 80/20 ratio since the original notebook has this one. "
   ]
  },
  {
   "cell_type": "code",
   "execution_count": 7,
   "metadata": {},
   "outputs": [],
   "source": [
    "# splitting train / test (maybe validation would be more appropriate)\n",
    "from sklearn.model_selection import train_test_split\n",
    "\n",
    "train, test = train_test_split(data_final, test_size = 0.2, random_state = 137)"
   ]
  },
  {
   "cell_type": "markdown",
   "metadata": {},
   "source": [
    "### Normalization \n",
    "Data are on completely different scales --> normalization (for each column on its own) will help the convergence of our AE. I've tried different ones, but I think that the most effective is the last, we follow a regular Z-score normalization but given the very large variance for feature E and pt, we try to smooth their distribution by filtering data, mean and var with a logarithm (base 10). \n",
    "\n",
    "Moreover I've noted the unnormalize function at the end of the suggested notebook, but I've decided not to use the scaling factors for $\\eta$ and $\\phi$ since I didn't know how to justify them (there might be some physical meaning?!)"
   ]
  },
  {
   "cell_type": "code",
   "execution_count": 8,
   "metadata": {},
   "outputs": [],
   "source": [
    "# Min Max Normalization --> values between 0 and 1 \n",
    "def min_max_normalization(df):\n",
    "    result = df.copy()\n",
    "    for feature_name in df.columns:\n",
    "        max_value = df[feature_name].max()\n",
    "        min_value = df[feature_name].min()\n",
    "        result[feature_name] = (df[feature_name] - min_value) / (max_value - min_value)\n",
    "    return result\n",
    "\n",
    "## mean Normalization - regular Z-score normalization\n",
    "def mean_normalization(df):\n",
    "    result = df.copy()\n",
    "    for feature_name in df.columns:\n",
    "        mean_value = df[feature_name].mean()\n",
    "        std_value = df[feature_name].std()\n",
    "        result[feature_name] = (df[feature_name] - mean_value) / std_value\n",
    "    return result\n",
    "\n",
    "## mean log normalization for E and pt, mean normalization for the other 2 variables\n",
    "def log_mean_normalization(df):\n",
    "    result = df.copy()\n",
    "    for feature_name in df.columns:\n",
    "        if feature_name in [\"E\", \"pt\"]:\n",
    "            mean_value_log = np.log10(df[feature_name]).mean()\n",
    "            std_value_log = np.log10(df[feature_name]).std()\n",
    "            result[feature_name] = (np.log10(df[feature_name]) - mean_value_log) / std_value_log\n",
    "            \n",
    "        else: \n",
    "            mean_value = df[feature_name].mean()\n",
    "            std_value = df[feature_name].std()\n",
    "            result[feature_name] = (df[feature_name] - mean_value) / std_value\n",
    "    return result"
   ]
  },
  {
   "cell_type": "markdown",
   "metadata": {},
   "source": [
    "Now we can normalize train and test set separately, since in real applications we are not aware of the training distribution usually and we might expect to have an already trained model. Real time applications need a clear separation in this sense as well. Performances would be greater in the case where we keep information from the training distribution, but it seems like \"cheating\" in some way (at least for me :) "
   ]
  },
  {
   "cell_type": "code",
   "execution_count": 9,
   "metadata": {},
   "outputs": [],
   "source": [
    "train = log_mean_normalization(train)\n",
    "test = log_mean_normalization(test)"
   ]
  },
  {
   "cell_type": "markdown",
   "metadata": {},
   "source": [
    "### A quick glance to our data - EDA "
   ]
  },
  {
   "cell_type": "code",
   "execution_count": 10,
   "metadata": {
    "id": "dKd2VoJkATXH",
    "outputId": "e5fb6791-428e-48c4-b574-2d8b02298e77"
   },
   "outputs": [
    {
     "name": "stdout",
     "output_type": "stream",
     "text": [
      "Training sample:\n",
      "              E        pt       eta       phi\n",
      "17896 -0.231988 -0.309965  0.948744  0.663952\n",
      "1473   0.495191  0.987216  0.284007  1.227662\n",
      "12228 -2.249630 -1.478913 -0.029514  0.910512\n",
      "18165 -0.200442 -1.531026  1.917238 -0.041340\n",
      "16891 -1.687684 -1.133188 -0.440664 -0.073843\n",
      "\n",
      "\n",
      "Testing sample:\n",
      "              E        pt       eta       phi\n",
      "2172   0.992874  1.514586  0.084634 -1.662320\n",
      "21009 -1.993622 -1.469281  0.456569  0.760639\n",
      "2628   0.765624  1.308438  0.065703 -0.024341\n",
      "11520 -0.533557 -0.101833  0.473345 -1.461723\n",
      "17678 -0.788562 -0.471830  0.620766  0.457563\n",
      "\n",
      "\n",
      "The number of entries in the training data: 18128\n",
      "The number of entries in the validation data: 4533\n"
     ]
    }
   ],
   "source": [
    "# Just looking at our data\n",
    "print('Training sample:')\n",
    "print(train.head())\n",
    "\n",
    "print('\\n')\n",
    "\n",
    "print('Testing sample:')\n",
    "print(test.head())\n",
    "\n",
    "print('\\n')\n",
    "\n",
    "print('The number of entries in the training data:', len(train))\n",
    "print('The number of entries in the validation data:', len(test))"
   ]
  },
  {
   "cell_type": "markdown",
   "metadata": {
    "id": "tieXBBYhATXH"
   },
   "source": [
    "Now we plot the data using the matplotlib library. The units reflect the normalization, but it's the shape that we care about. (keeping the same as the original notebook, just changed the name from m to E in order to keep the same one as the Dataset documentation)"
   ]
  },
  {
   "cell_type": "code",
   "execution_count": 28,
   "metadata": {
    "id": "4GBvKPKEATXH",
    "outputId": "c77d0165-4a23-48b3-b84a-dc7117bc3dfe"
   },
   "outputs": [
    {
     "data": {
      "image/png": "[encoded data removed]",
      "text/plain": [
       "<Figure size 432x288 with 1 Axes>"
      ]
     },
     "metadata": {},
     "output_type": "display_data"
    },
    {
     "data": {
      "image/png": "[encoded data removed]",
      "text/plain": [
       "<Figure size 432x288 with 1 Axes>"
      ]
     },
     "metadata": {},
     "output_type": "display_data"
    },
    {
     "data": {
      "image/png": "[encoded data removed]",
      "text/plain": [
       "<Figure size 432x288 with 1 Axes>"
      ]
     },
     "metadata": {},
     "output_type": "display_data"
    },
    {
     "data": {
      "image/png": "[encoded data removed]",
      "text/plain": [
       "<Figure size 432x288 with 1 Axes>"
      ]
     },
     "metadata": {},
     "output_type": "display_data"
    }
   ],
   "source": [
    "import matplotlib.pyplot as plt\n",
    "import seaborn as sns\n",
    "sns.set_theme()\n",
    "\n",
    "unit_list = ['[log(GeV)]', '[rad]', '[rad]', '[log(GeV)]']\n",
    "variable_list = [r'$p_T$', r'$\\eta$', r'$\\phi$', r'$E$']\n",
    "\n",
    "branches=[\"pt\",\"eta\",\"phi\",\"E\"]\n",
    "\n",
    "n_bins = 100\n",
    "\n",
    "for kk in range(0,4):\n",
    "    n_hist_data, bin_edges, _ = plt.hist(train[branches[kk]], color='gray', label='Input', alpha=1, bins=n_bins)\n",
    "    plt.suptitle(variable_list[kk])\n",
    "    plt.xlabel(xlabel=variable_list[kk] + ' ' + unit_list[kk])\n",
    "    plt.ylabel('# of events')\n",
    "    plt.savefig(\"fourmomentum_\"+branches[kk],dpi=300)\n",
    "    plt.grid(alpha = 0.3)\n",
    "    plt.show()"
   ]
  },
  {
   "cell_type": "markdown",
   "metadata": {
    "id": "A1F5G1FNATXH"
   },
   "source": [
    "## Setting up the network\n"
   ]
  },
  {
   "cell_type": "markdown",
   "metadata": {
    "id": "74jePPAIATXI"
   },
   "source": [
    "### Preparing the data"
   ]
  },
  {
   "cell_type": "markdown",
   "metadata": {
    "id": "l-rUOyeoATXI"
   },
   "source": [
    "Adding the two datasets as TensorDatasets to PyTorch (also loading all other classes we'll need later)"
   ]
  },
  {
   "cell_type": "code",
   "execution_count": 12,
   "metadata": {
    "id": "2XEFev5gATXI"
   },
   "outputs": [],
   "source": [
    "import torch\n",
    "import torch.nn as nn\n",
    "import torch.optim as optim\n",
    "import torch.utils.data\n",
    "from torch.autograd import Variable\n",
    "\n",
    "from torch.utils.data import TensorDataset\n",
    "from torch.utils.data import DataLoader\n",
    "\n",
    "from fastai import learner\n",
    "from fastai.data import core\n",
    "\n",
    "train_x = train\n",
    "test_x = test\n",
    "train_y = train_x  # y = x since we are building an autoencoder\n",
    "test_y = test_x\n",
    "\n",
    "# Constructs a tensor object of the data and wraps them in a TensorDataset object.\n",
    "train_ds = TensorDataset(torch.tensor(train_x.values, dtype=torch.float), torch.tensor(train_y.values, dtype=torch.float))\n",
    "valid_ds = TensorDataset(torch.tensor(test_x.values, dtype=torch.float), torch.tensor(test_y.values, dtype=torch.float))"
   ]
  },
  {
   "cell_type": "markdown",
   "metadata": {
    "id": "odJEvt4LATXI"
   },
   "source": [
    "We now set things up to load the data, and we use a batch size that was optimized by previous students...note also that this is fastai v2, migration thanks to Jessica Lastow."
   ]
  },
  {
   "cell_type": "code",
   "execution_count": 13,
   "metadata": {
    "id": "ixPKKKPUATXI"
   },
   "outputs": [],
   "source": [
    "bs = 256\n",
    "\n",
    "# Converts the TensorDataset into a DataLoader object and combines into one DataLoaders object (a basic wrapper\n",
    "# around several DataLoader objects). \n",
    "train_dl = DataLoader(train_ds, batch_size=bs, shuffle=True)\n",
    "valid_dl = DataLoader(valid_ds, batch_size=bs * 2)\n",
    "dls = core.DataLoaders(train_dl, valid_dl)"
   ]
  },
  {
   "cell_type": "markdown",
   "metadata": {
    "id": "PO1x0QHwATXI"
   },
   "source": [
    "### Preparing the network"
   ]
  },
  {
   "cell_type": "markdown",
   "metadata": {
    "id": "kF3ZY95JATXI"
   },
   "source": [
    "Here we have an example network. Details aren't too important, as long as they match what was already trained for us...in this case we have a LeakyReLU, tanh activation function, and a number of layers that goes from 4 to 200 to 20 to 3 (number of features in the hidden layer that we pick for testing compression) and then back all the way to 4. "
   ]
  },
  {
   "cell_type": "code",
   "execution_count": 14,
   "metadata": {
    "id": "0SehD8TpATXI",
    "outputId": "0b00e445-b31e-40ea-9062-89485d0b28b1"
   },
   "outputs": [
    {
     "data": {
      "text/plain": [
       "AE_3D_200_LeakyReLU(\n",
       "  (en1): Linear(in_features=4, out_features=200, bias=True)\n",
       "  (en2): Linear(in_features=200, out_features=200, bias=True)\n",
       "  (en3): Linear(in_features=200, out_features=20, bias=True)\n",
       "  (en4): Linear(in_features=20, out_features=3, bias=True)\n",
       "  (de1): Linear(in_features=3, out_features=20, bias=True)\n",
       "  (de2): Linear(in_features=20, out_features=200, bias=True)\n",
       "  (de3): Linear(in_features=200, out_features=200, bias=True)\n",
       "  (de4): Linear(in_features=200, out_features=4, bias=True)\n",
       "  (tanh): Tanh()\n",
       ")"
      ]
     },
     "execution_count": 14,
     "metadata": {},
     "output_type": "execute_result"
    }
   ],
   "source": [
    "class AE_3D_200_LeakyReLU(nn.Module):\n",
    "    def __init__(self, n_features=4):\n",
    "        super(AE_3D_200_LeakyReLU, self).__init__()\n",
    "        self.en1 = nn.Linear(n_features, 200)\n",
    "        self.en2 = nn.Linear(200, 200)\n",
    "        self.en3 = nn.Linear(200, 20)\n",
    "        self.en4 = nn.Linear(20, 3)\n",
    "        self.de1 = nn.Linear(3, 20)\n",
    "        self.de2 = nn.Linear(20, 200)\n",
    "        self.de3 = nn.Linear(200, 200)\n",
    "        self.de4 = nn.Linear(200, n_features)\n",
    "        self.tanh = nn.Tanh()\n",
    "\n",
    "    def encode(self, x):\n",
    "        return self.en4(self.tanh(self.en3(self.tanh(self.en2(self.tanh(self.en1(x)))))))\n",
    "\n",
    "    def decode(self, x):\n",
    "        return self.de4(self.tanh(self.de3(self.tanh(self.de2(self.tanh(self.de1(self.tanh(x))))))))\n",
    "\n",
    "    def forward(self, x):\n",
    "        z = self.encode(x)\n",
    "        return self.decode(z)\n",
    "\n",
    "    def describe(self):\n",
    "        return m\n",
    "\n",
    "#model = AE_3D_200_LeakyReLU().double()\n",
    "model = AE_3D_200_LeakyReLU()\n",
    "model.to('cpu')"
   ]
  },
  {
   "cell_type": "code",
   "execution_count": 15,
   "metadata": {
    "id": "rQ6GFlYWATXJ"
   },
   "outputs": [],
   "source": [
    "from fastai.metrics import mse\n",
    "\n",
    "loss_func =  nn.MSELoss() \n",
    "\n",
    "#bn_wd = False  # Don't use weight decay for batchnorm layers\n",
    "#true_wd = True  # weight decay will be used for all optimizers\n",
    "wd = 0.5\n",
    "\n",
    "recorder = learner.Recorder()\n",
    "learn = learner.Learner(dls, model=model, wd=wd, loss_func=loss_func, cbs=recorder)\n",
    "#was: learn = basic_train.Learner(data=db, model=model, loss_func=loss_func, wd=wd, callback_fns=ActivationStats, bn_wd=bn_wd, true_wd=true_wd)"
   ]
  },
  {
   "cell_type": "markdown",
   "metadata": {
    "id": "oQC6xHnwATXL"
   },
   "source": [
    "## Alternative 2: Training a new network"
   ]
  },
  {
   "cell_type": "markdown",
   "metadata": {
    "id": "itnfADG4ATXL"
   },
   "source": [
    "Instead of using a pre-trained network, an alternative is to train a new network and use that instead. "
   ]
  },
  {
   "cell_type": "markdown",
   "metadata": {
    "id": "si47O23UATXL"
   },
   "source": [
    "First, we want to find the best learning rate. The learning rate is a hyper-paramater that sets how much the weights of the network will change each step with respect to the loss gradient.\n",
    "\n",
    "Then we plot the loss versus the learning rates. We're interested in finding a good order of magnitude of learning rate, so we plot with a log scale.\n",
    "\n",
    "A good value for the learning rates is then either:\n",
    "- one tenth of the minimum before the divergence\n",
    "- when the slope is the steepest"
   ]
  },
  {
   "cell_type": "code",
   "execution_count": 16,
   "metadata": {
    "id": "D4f9XWZhATXL",
    "outputId": "75605bb3-5855-44ee-8120-f4d4032feb85"
   },
   "outputs": [
    {
     "name": "stdout",
     "output_type": "stream",
     "text": [
      "Learning rate with the minimum loss: 0.0033113110810518267\n",
      "Learning rate with the steepest gradient: 0.00363078061491251\n"
     ]
    },
    {
     "data": {
      "text/plain": [
       "Text(0.5, 0.98, 'Learning Rate Tuning')"
      ]
     },
     "execution_count": 16,
     "metadata": {},
     "output_type": "execute_result"
    },
    {
     "data": {
      "image/png": "[encoded data removed]",
      "text/plain": [
       "<Figure size 432x288 with 1 Axes>"
      ]
     },
     "metadata": {},
     "output_type": "display_data"
    }
   ],
   "source": [
    "from fastai.callback import schedule\n",
    "\n",
    "lr_min, lr_steep = learn.lr_find()\n",
    "\n",
    "print('Learning rate with the minimum loss:', lr_min)\n",
    "print('Learning rate with the steepest gradient:', lr_steep)\n",
    "plt.suptitle(\"Learning Rate Tuning\")"
   ]
  },
  {
   "cell_type": "markdown",
   "metadata": {
    "id": "XUb8_BqNATXL"
   },
   "source": [
    "Now we want to run the training!\n",
    "\n",
    "User-chosen variables:\n",
    "- n_epoch: The number of epochs, i.e how many times the to run through all of the training data once (i.e the 1266046 entries, see cell 2)\n",
    "- lr: The learning rate. Either choose lr_min, lr_steep from above or set your own.\n"
   ]
  },
  {
   "cell_type": "code",
   "execution_count": 17,
   "metadata": {
    "id": "c01TZYZjATXL",
    "outputId": "774b00e9-5c59-4fbe-ec2e-68406014cc99",
    "scrolled": true
   },
   "outputs": [
    {
     "name": "stdout",
     "output_type": "stream",
     "text": [
      "[0, 0.5498286485671997, 0.23703593015670776, '00:00']\n",
      "[0, 0.5498286485671997, 0.23703593015670776, '00:00']\n",
      "[1, 0.21081037819385529, 0.10628809034824371, '00:00']\n",
      "[1, 0.21081037819385529, 0.10628809034824371, '00:00']\n",
      "[2, 0.11890936642885208, 0.07736750692129135, '00:00']\n",
      "[2, 0.11890936642885208, 0.07736750692129135, '00:00']\n",
      "[3, 0.07738956809043884, 0.052804216742515564, '00:00']\n",
      "[3, 0.07738956809043884, 0.052804216742515564, '00:00']\n",
      "[4, 0.04638909921050072, 0.019712479785084724, '00:00']\n",
      "[4, 0.04638909921050072, 0.019712479785084724, '00:00']\n",
      "[5, 0.015876905992627144, 0.002769959159195423, '00:00']\n",
      "[5, 0.015876905992627144, 0.002769959159195423, '00:00']\n",
      "[6, 0.004991821479052305, 0.0013612492475658655, '00:00']\n",
      "[6, 0.004991821479052305, 0.0013612492475658655, '00:00']\n",
      "[7, 0.0019894768483936787, 0.0010291339131072164, '00:00']\n",
      "[7, 0.0019894768483936787, 0.0010291339131072164, '00:00']\n",
      "[8, 0.001154981437139213, 0.0008849122677929699, '00:00']\n",
      "[8, 0.001154981437139213, 0.0008849122677929699, '00:00']\n",
      "[9, 0.0009846800239756703, 0.0025366335175931454, '00:00']\n",
      "[9, 0.0009846800239756703, 0.0025366335175931454, '00:00']\n",
      "[10, 0.0011599828721955419, 0.0013542076339945197, '00:00']\n",
      "[10, 0.0011599828721955419, 0.0013542076339945197, '00:00']\n",
      "[11, 0.0014170828508213162, 0.001118396408855915, '00:00']\n",
      "[11, 0.0014170828508213162, 0.001118396408855915, '00:00']\n",
      "[12, 0.0018379708053544164, 0.001177318743430078, '00:00']\n",
      "[12, 0.0018379708053544164, 0.001177318743430078, '00:00']\n",
      "[13, 0.0020053209736943245, 0.004404355306178331, '00:00']\n",
      "[13, 0.0020053209736943245, 0.004404355306178331, '00:00']\n",
      "[14, 0.0020253362599760294, 0.0022830520756542683, '00:00']\n",
      "[14, 0.0020253362599760294, 0.0022830520756542683, '00:00']\n",
      "[15, 0.003410325152799487, 0.00360342999920249, '00:00']\n",
      "[15, 0.003410325152799487, 0.00360342999920249, '00:00']\n",
      "[16, 0.006219386123120785, 0.0045799752697348595, '00:00']\n",
      "[16, 0.006219386123120785, 0.0045799752697348595, '00:00']\n",
      "[17, 0.0035568203311413527, 0.0027999081648886204, '00:00']\n",
      "[17, 0.0035568203311413527, 0.0027999081648886204, '00:00']\n",
      "[18, 0.0050037275068461895, 0.013285071589052677, '00:00']\n",
      "[18, 0.0050037275068461895, 0.013285071589052677, '00:00']\n",
      "[19, 0.005072110798209906, 0.0021737676579505205, '00:00']\n",
      "[19, 0.005072110798209906, 0.0021737676579505205, '00:00']\n",
      "[20, 0.005823272746056318, 0.0034411964006721973, '00:00']\n",
      "[20, 0.005823272746056318, 0.0034411964006721973, '00:00']\n",
      "[21, 0.008428298868238926, 0.009039056487381458, '00:00']\n",
      "[21, 0.008428298868238926, 0.009039056487381458, '00:00']\n",
      "[22, 0.005844992585480213, 0.0023926084395498037, '00:00']\n",
      "[22, 0.005844992585480213, 0.0023926084395498037, '00:00']\n",
      "[23, 0.004969596862792969, 0.008663213811814785, '00:00']\n",
      "[23, 0.004969596862792969, 0.008663213811814785, '00:00']\n",
      "[24, 0.006493666209280491, 0.01853243075311184, '00:00']\n",
      "[24, 0.006493666209280491, 0.01853243075311184, '00:00']\n",
      "[25, 0.007135156076401472, 0.002655639313161373, '00:00']\n",
      "[25, 0.007135156076401472, 0.002655639313161373, '00:00']\n",
      "[26, 0.0061637843027710915, 0.0030951520893722773, '00:00']\n",
      "[26, 0.0061637843027710915, 0.0030951520893722773, '00:00']\n",
      "[27, 0.005401742644608021, 0.009306062944233418, '00:00']\n",
      "[27, 0.005401742644608021, 0.009306062944233418, '00:00']\n",
      "[28, 0.005366102326661348, 0.005486936774104834, '00:00']\n",
      "[28, 0.005366102326661348, 0.005486936774104834, '00:00']\n",
      "[29, 0.006707482505589724, 0.0037933937273919582, '00:00']\n",
      "[29, 0.006707482505589724, 0.0037933937273919582, '00:00']\n",
      "[30, 0.0074692401103675365, 0.005917640868574381, '00:00']\n",
      "[30, 0.0074692401103675365, 0.005917640868574381, '00:00']\n",
      "[31, 0.004890009295195341, 0.006107990629971027, '00:00']\n",
      "[31, 0.004890009295195341, 0.006107990629971027, '00:00']\n",
      "[32, 0.005429653450846672, 0.0026443160604685545, '00:00']\n",
      "[32, 0.005429653450846672, 0.0026443160604685545, '00:00']\n",
      "[33, 0.00562083488330245, 0.02158253639936447, '00:00']\n",
      "[33, 0.00562083488330245, 0.02158253639936447, '00:00']\n",
      "[34, 0.004132394678890705, 0.007914606481790543, '00:00']\n",
      "[34, 0.004132394678890705, 0.007914606481790543, '00:00']\n",
      "[35, 0.005772088188678026, 0.005723554641008377, '00:00']\n",
      "[35, 0.005772088188678026, 0.005723554641008377, '00:00']\n",
      "[36, 0.005079283844679594, 0.0037401604931801558, '00:00']\n",
      "[36, 0.005079283844679594, 0.0037401604931801558, '00:00']\n",
      "[37, 0.004095235373824835, 0.00699468981474638, '00:00']\n",
      "[37, 0.004095235373824835, 0.00699468981474638, '00:00']\n",
      "[38, 0.004404667764902115, 0.0017477284418419003, '00:00']\n",
      "[38, 0.004404667764902115, 0.0017477284418419003, '00:00']\n",
      "[39, 0.005349209066480398, 0.00245515420101583, '00:00']\n",
      "[39, 0.005349209066480398, 0.00245515420101583, '00:00']\n",
      "[40, 0.003911301027983427, 0.0018003510776907206, '00:00']\n",
      "[40, 0.003911301027983427, 0.0018003510776907206, '00:00']\n",
      "[41, 0.004154555033892393, 0.005855345167219639, '00:00']\n",
      "[41, 0.004154555033892393, 0.005855345167219639, '00:00']\n",
      "[42, 0.004252048674970865, 0.002554466249421239, '00:00']\n",
      "[42, 0.004252048674970865, 0.002554466249421239, '00:00']\n",
      "[43, 0.0035796232987195253, 0.0021007831674069166, '00:00']\n",
      "[43, 0.0035796232987195253, 0.0021007831674069166, '00:00']\n",
      "[44, 0.0037213186733424664, 0.0032108821906149387, '00:00']\n",
      "[44, 0.0037213186733424664, 0.0032108821906149387, '00:00']\n",
      "[45, 0.0031738784164190292, 0.00262239808216691, '00:00']\n",
      "[45, 0.0031738784164190292, 0.00262239808216691, '00:00']\n",
      "[46, 0.002862796653062105, 0.0017530013574287295, '00:00']\n",
      "[46, 0.002862796653062105, 0.0017530013574287295, '00:00']\n",
      "[47, 0.0023851015139371157, 0.0010623445268720388, '00:00']\n",
      "[47, 0.0023851015139371157, 0.0010623445268720388, '00:00']\n",
      "[48, 0.002874275203794241, 0.0011397746857255697, '00:00']\n",
      "[48, 0.002874275203794241, 0.0011397746857255697, '00:00']\n",
      "[49, 0.002209380501881242, 0.004156940151005983, '00:00']\n",
      "[49, 0.002209380501881242, 0.004156940151005983, '00:00']\n",
      "[50, 0.003362016286700964, 0.002302930923178792, '00:00']\n",
      "[50, 0.003362016286700964, 0.002302930923178792, '00:00']\n",
      "[51, 0.002065073000267148, 0.000876152771525085, '00:00']\n",
      "[51, 0.002065073000267148, 0.000876152771525085, '00:00']\n",
      "[52, 0.0022884849458932877, 0.0031311095226556063, '00:00']\n",
      "[52, 0.0022884849458932877, 0.0031311095226556063, '00:00']\n",
      "[53, 0.0017745690420269966, 0.0019553040619939566, '00:00']\n",
      "[53, 0.0017745690420269966, 0.0019553040619939566, '00:00']\n",
      "[54, 0.002350490540266037, 0.0020782682113349438, '00:00']\n",
      "[54, 0.002350490540266037, 0.0020782682113349438, '00:00']\n",
      "[55, 0.0018227625405415893, 0.0015712776221334934, '00:00']\n",
      "[55, 0.0018227625405415893, 0.0015712776221334934, '00:00']\n",
      "[56, 0.0015607473906129599, 0.0024751056917011738, '00:00']\n",
      "[56, 0.0015607473906129599, 0.0024751056917011738, '00:00']\n",
      "[57, 0.0014043505070731044, 0.000883162603713572, '00:00']\n",
      "[57, 0.0014043505070731044, 0.000883162603713572, '00:00']\n",
      "[58, 0.001317327027209103, 0.0012903044698759913, '00:00']\n",
      "[58, 0.001317327027209103, 0.0012903044698759913, '00:00']\n",
      "[59, 0.0015747477300465107, 0.0019287222530692816, '00:00']\n",
      "[59, 0.0015747477300465107, 0.0019287222530692816, '00:00']\n",
      "[60, 0.001023147371597588, 0.0010666779708117247, '00:00']\n",
      "[60, 0.001023147371597588, 0.0010666779708117247, '00:00']\n",
      "[61, 0.0010389116359874606, 0.0008087674505077302, '00:00']\n",
      "[61, 0.0010389116359874606, 0.0008087674505077302, '00:00']\n",
      "[62, 0.0008736100280657411, 0.0006842722650617361, '00:00']\n",
      "[62, 0.0008736100280657411, 0.0006842722650617361, '00:00']\n",
      "[63, 0.0009642368531785905, 0.0009083373588509858, '00:00']\n",
      "[63, 0.0009642368531785905, 0.0009083373588509858, '00:00']\n",
      "[64, 0.0009079952724277973, 0.0007633900968357921, '00:00']\n",
      "[64, 0.0009079952724277973, 0.0007633900968357921, '00:00']\n",
      "[65, 0.0007159201777540147, 0.0008504201541654766, '00:00']\n",
      "[65, 0.0007159201777540147, 0.0008504201541654766, '00:00']\n",
      "[66, 0.0006849682540632784, 0.0005928627215325832, '00:00']\n",
      "[66, 0.0006849682540632784, 0.0005928627215325832, '00:00']\n",
      "[67, 0.0006351961637847126, 0.0005036318325437605, '00:00']\n",
      "[67, 0.0006351961637847126, 0.0005036318325437605, '00:00']\n",
      "[68, 0.0005633371765725315, 0.0005341852083802223, '00:00']\n",
      "[68, 0.0005633371765725315, 0.0005341852083802223, '00:00']\n",
      "[69, 0.0005168586503714323, 0.00045442976988852024, '00:00']\n",
      "[69, 0.0005168586503714323, 0.00045442976988852024, '00:00']\n"
     ]
    },
    {
     "name": "stdout",
     "output_type": "stream",
     "text": [
      "[70, 0.00044939661165699363, 0.0004657093377318233, '00:00']\n",
      "[70, 0.00044939661165699363, 0.0004657093377318233, '00:00']\n",
      "[71, 0.0004246253811288625, 0.0004498696653172374, '00:00']\n",
      "[71, 0.0004246253811288625, 0.0004498696653172374, '00:00']\n",
      "[72, 0.0004352379764895886, 0.0004087724955752492, '00:00']\n",
      "[72, 0.0004352379764895886, 0.0004087724955752492, '00:00']\n",
      "[73, 0.0003432351222727448, 0.00038724642945453525, '00:00']\n",
      "[73, 0.0003432351222727448, 0.00038724642945453525, '00:00']\n",
      "[74, 0.0003197621845174581, 0.00045473501086235046, '00:00']\n",
      "[74, 0.0003197621845174581, 0.00045473501086235046, '00:00']\n",
      "[75, 0.00031292648054659367, 0.00036145676858723164, '00:00']\n",
      "[75, 0.00031292648054659367, 0.00036145676858723164, '00:00']\n",
      "[76, 0.0002925108128692955, 0.0004174825153313577, '00:00']\n",
      "[76, 0.0002925108128692955, 0.0004174825153313577, '00:00']\n",
      "[77, 0.00025330198695883155, 0.0003688047581817955, '00:00']\n",
      "[77, 0.00025330198695883155, 0.0003688047581817955, '00:00']\n",
      "[78, 0.0002385718107689172, 0.0003347480087541044, '00:00']\n",
      "[78, 0.0002385718107689172, 0.0003347480087541044, '00:00']\n",
      "[79, 0.00022196809004526585, 0.0003779432154260576, '00:00']\n",
      "[79, 0.00022196809004526585, 0.0003779432154260576, '00:00']\n",
      "[80, 0.00019899696053471416, 0.00031318393303081393, '00:00']\n",
      "[80, 0.00019899696053471416, 0.00031318393303081393, '00:00']\n",
      "[81, 0.00018972944235429168, 0.00030325260013341904, '00:00']\n",
      "[81, 0.00018972944235429168, 0.00030325260013341904, '00:00']\n",
      "[82, 0.00018282182281836867, 0.0002666725777089596, '00:00']\n",
      "[82, 0.00018282182281836867, 0.0002666725777089596, '00:00']\n",
      "[83, 0.00017610636132303625, 0.000284623441984877, '00:00']\n",
      "[83, 0.00017610636132303625, 0.000284623441984877, '00:00']\n",
      "[84, 0.00015430869825650007, 0.00027434941148385406, '00:00']\n",
      "[84, 0.00015430869825650007, 0.00027434941148385406, '00:00']\n",
      "[85, 0.00014880629896651953, 0.00028133607702329755, '00:00']\n",
      "[85, 0.00014880629896651953, 0.00028133607702329755, '00:00']\n",
      "[86, 0.00014183169696480036, 0.0002426234568702057, '00:00']\n",
      "[86, 0.00014183169696480036, 0.0002426234568702057, '00:00']\n",
      "[87, 0.0001349244557786733, 0.0002460971300024539, '00:00']\n",
      "[87, 0.0001349244557786733, 0.0002460971300024539, '00:00']\n",
      "[88, 0.0001324374316027388, 0.00023250255617313087, '00:00']\n",
      "[88, 0.0001324374316027388, 0.00023250255617313087, '00:00']\n",
      "[89, 0.0001267163170268759, 0.0002387307322351262, '00:00']\n",
      "[89, 0.0001267163170268759, 0.0002387307322351262, '00:00']\n",
      "[90, 0.00011903390986844897, 0.00023220210277941078, '00:00']\n",
      "[90, 0.00011903390986844897, 0.00023220210277941078, '00:00']\n",
      "[91, 0.00011375054600648582, 0.00023492114269174635, '00:00']\n",
      "[91, 0.00011375054600648582, 0.00023492114269174635, '00:00']\n",
      "[92, 0.00011408532009227201, 0.00022117691696621478, '00:00']\n",
      "[92, 0.00011408532009227201, 0.00022117691696621478, '00:00']\n",
      "[93, 0.00010842618212336674, 0.0002204719203291461, '00:00']\n",
      "[93, 0.00010842618212336674, 0.0002204719203291461, '00:00']\n",
      "[94, 0.00010791885142680258, 0.00022936254390515387, '00:00']\n",
      "[94, 0.00010791885142680258, 0.00022936254390515387, '00:00']\n",
      "[95, 0.00010513007873669267, 0.00021568540250882506, '00:00']\n",
      "[95, 0.00010513007873669267, 0.00021568540250882506, '00:00']\n",
      "[96, 0.00010164419654756784, 0.00022021662152837962, '00:00']\n",
      "[96, 0.00010164419654756784, 0.00022021662152837962, '00:00']\n",
      "[97, 0.0001027367907227017, 0.00021840019326191396, '00:00']\n",
      "[97, 0.0001027367907227017, 0.00021840019326191396, '00:00']\n",
      "[98, 0.00010145598935196176, 0.00021745786943938583, '00:00']\n",
      "[98, 0.00010145598935196176, 0.00021745786943938583, '00:00']\n",
      "[99, 9.879760182229802e-05, 0.00021759125229436904, '00:00']\n",
      "[99, 9.879760182229802e-05, 0.00021759125229436904, '00:00']\n",
      "Training took 66.931842583 seconds\n"
     ]
    }
   ],
   "source": [
    "import time\n",
    "\n",
    "start = time.perf_counter() # Starts timer\n",
    "learn.fit_one_cycle(n_epoch=100, lr_max=lr_min)\n",
    "end = time.perf_counter() # Ends timer\n",
    "delta_t = end - start\n",
    "print('Training took', delta_t, 'seconds')"
   ]
  },
  {
   "cell_type": "markdown",
   "metadata": {
    "id": "OoP9CzsDATXL"
   },
   "source": [
    "Then we plot the loss as a function of batches and epochs to check if we reach a plateau."
   ]
  },
  {
   "cell_type": "code",
   "execution_count": 18,
   "metadata": {
    "id": "A4zXo50xATXL",
    "outputId": "98b8ea62-be67-4685-bb3a-c274d91bac33"
   },
   "outputs": [
    {
     "data": {
      "text/plain": [
       "Text(0, 0.5, 'Loss')"
      ]
     },
     "execution_count": 18,
     "metadata": {},
     "output_type": "execute_result"
    },
    {
     "data": {
      "image/png": "[encoded data removed]",
      "text/plain": [
       "<Figure size 432x288 with 1 Axes>"
      ]
     },
     "metadata": {},
     "output_type": "display_data"
    }
   ],
   "source": [
    "recorder.plot_loss()\n",
    "plt.suptitle(\"Learning Curve\")\n",
    "plt.xlabel(\"Epochs\")\n",
    "plt.ylabel(\"Loss\")"
   ]
  },
  {
   "cell_type": "markdown",
   "metadata": {
    "id": "Hh6RHBb0ATXL"
   },
   "source": [
    "Then we evaluate the MSE on this network - it should be of the order of 0.001 or less if all has gone well...if it has not trained as well (note the pesky 0-mass peak above...) then it's going to be a bit higher."
   ]
  },
  {
   "cell_type": "code",
   "execution_count": 23,
   "metadata": {
    "id": "xt0zH3lfATXL",
    "outputId": "33703707-8521-4442-d5b8-006455b4583c"
   },
   "outputs": [
    {
     "data": {
      "text/plain": [
       "(#1) [0.00021759125229436904]"
      ]
     },
     "execution_count": 23,
     "metadata": {},
     "output_type": "execute_result"
    }
   ],
   "source": [
    "learn.validate()"
   ]
  },
  {
   "cell_type": "markdown",
   "metadata": {
    "id": "v-ANi9b2ATXM"
   },
   "source": [
    "Let's plot all of this, with ratios (thanks to code by Erik Wallin)"
   ]
  },
  {
   "cell_type": "markdown",
   "metadata": {
    "id": "ZARWvOWVATXM"
   },
   "source": [
    "## Plotting the outputs of the network"
   ]
  },
  {
   "cell_type": "markdown",
   "metadata": {
    "id": "gvSPQXNeATXM"
   },
   "source": [
    "Lazy-save of our output files (they'll also be on screen)"
   ]
  },
  {
   "cell_type": "code",
   "execution_count": 24,
   "metadata": {
    "id": "fJndjJwlATXM"
   },
   "outputs": [],
   "source": [
    "import os\n",
    "save_dir = \"plotOutput\"\n",
    "if not os.path.exists(save_dir):\n",
    "    os.makedirs(save_dir)"
   ]
  },
  {
   "cell_type": "markdown",
   "metadata": {
    "id": "Vw7fRTA5ATXM"
   },
   "source": [
    "Make the histograms from the dataset..."
   ]
  },
  {
   "cell_type": "code",
   "execution_count": 25,
   "metadata": {
    "id": "uCuOZkc6ATXM",
    "outputId": "a13fd36a-d30c-4867-d8b9-95382a21264e",
    "scrolled": false
   },
   "outputs": [
    {
     "data": {
      "image/png": "[encoded data removed]",
      "text/plain": [
       "<Figure size 432x288 with 1 Axes>"
      ]
     },
     "metadata": {},
     "output_type": "display_data"
    },
    {
     "data": {
      "image/png": "[encoded data removed]",
      "text/plain": [
       "<Figure size 432x288 with 1 Axes>"
      ]
     },
     "metadata": {},
     "output_type": "display_data"
    },
    {
     "data": {
      "image/png": "[encoded data removed]",
      "text/plain": [
       "<Figure size 432x288 with 1 Axes>"
      ]
     },
     "metadata": {},
     "output_type": "display_data"
    },
    {
     "data": {
      "image/png": "[encoded data removed]",
      "text/plain": [
       "<Figure size 432x288 with 1 Axes>"
      ]
     },
     "metadata": {},
     "output_type": "display_data"
    }
   ],
   "source": [
    "from scipy.stats import wasserstein_distance\n",
    "\n",
    "plt.close('all')\n",
    "unit_list = ['log[GeV]','log[GeV]', '[rad]', '[rad]']\n",
    "variable_list = [ r'$E$',r'$p_T$', r'$\\eta$', r'$\\phi$']\n",
    "\n",
    "line_style = ['--', '-']\n",
    "colors = ['orange', 'c']\n",
    "markers = ['*', 's']\n",
    "\n",
    "model.to('cpu')\n",
    "\n",
    "save = True # Option to save figure\n",
    "\n",
    "# Histograms\n",
    "idxs = (0, 100000)  # Choose events to compare\n",
    "data = torch.tensor(test[idxs[0]:idxs[1]].values, dtype=torch.float)\n",
    "pred = model(data)\n",
    "pred = pred.detach().numpy()\n",
    "data = data.detach().numpy()\n",
    "\n",
    "data_df = pd.DataFrame(data, columns=test.columns)\n",
    "pred_df = pd.DataFrame(pred, columns=test.columns)\n",
    "\n",
    "    \n",
    "alph = 0.5\n",
    "n_bins = 200\n",
    "ws_distances = []\n",
    "for kk in np.arange(4):\n",
    "    plt.figure()\n",
    "    n_hist_data, bin_edges, _ = plt.hist(data[:, kk], color=colors[1], label='Input', alpha=1, bins=n_bins)\n",
    "    n_hist_pred, _, _ = plt.hist(pred[:, kk], color=colors[0], label='Output', alpha=alph, bins=bin_edges)\n",
    "    #sns.jointplot(x = n_hist_data, y = n_hist_pred, data = bin_edges)\n",
    "    plt.suptitle(variable_list[kk])\n",
    "    plt.xlabel(xlabel = variable_list[kk] + ' ' + unit_list[kk])\n",
    "    plt.ylabel('Number of events')\n",
    "    plt.yscale('log')\n",
    "    plt.legend()\n",
    "    ws_distances.append(wasserstein_distance(n_hist_pred, n_hist_data))\n",
    "    if save:\n",
    "        plt.savefig(os.path.join(save_dir,test.columns[kk]+'.png'))"
   ]
  },
  {
   "cell_type": "code",
   "execution_count": 27,
   "metadata": {},
   "outputs": [
    {
     "data": {
      "text/plain": [
       "[0.42000000000000015,\n",
       " 0.4599999999999998,\n",
       " 0.7499999999999997,\n",
       " 0.42999999999999994]"
      ]
     },
     "execution_count": 27,
     "metadata": {},
     "output_type": "execute_result"
    }
   ],
   "source": [
    "ws_distances"
   ]
  },
  {
   "cell_type": "code",
   "execution_count": null,
   "metadata": {},
   "outputs": [],
   "source": []
  }
 ],
 "metadata": {
  "colab": {
   "name": "TLA_4D_Example.ipynb",
   "provenance": []
  },
  "kernelspec": {
   "display_name": "Python 3",
   "language": "python",
   "name": "python3"
  },
  "language_info": {
   "codemirror_mode": {
    "name": "ipython",
    "version": 3
   },
   "file_extension": ".py",
   "mimetype": "text/x-python",
   "name": "python",
   "nbconvert_exporter": "python",
   "pygments_lexer": "ipython3",
   "version": "3.8.5"
  }
 },
 "nbformat": 4,
 "nbformat_minor": 1
}
