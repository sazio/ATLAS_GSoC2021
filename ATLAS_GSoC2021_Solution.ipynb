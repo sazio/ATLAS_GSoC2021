{
 "cells": [
  {
   "cell_type": "markdown",
   "metadata": {
    "id": "HxgeHZOLATXG"
   },
   "source": [
    "# Proposed Solution - Evaluation Exercise for GSoC 2021\n",
    "## Deep autoencoders for ATLAS data compression"
   ]
  },
  {
   "cell_type": "markdown",
   "metadata": {},
   "source": [
    "**Preprocessing Data**\n",
    "semicolon becomes comma, there was an incongruency in original data"
   ]
  },
  {
   "cell_type": "code",
   "execution_count": 33,
   "metadata": {},
   "outputs": [],
   "source": [
    "pre_data_path = 'Data/monojet_Zp2000.0_DM_50.0_chan3.csv'\n",
    "text_file = open(pre_data_path, \"r\")\n",
    "text_file = ''.join([i for i in text_file]) \\\n",
    "    .replace(\";\", \",\")\n",
    "\n",
    "file_to_write = open(\"Data/clean_data.csv\",\"w\")\n",
    "file_to_write.writelines(text_file)\n",
    "file_to_write.close()"
   ]
  },
  {
   "cell_type": "markdown",
   "metadata": {},
   "source": [
    "Forcing the number of columns in order to avoid tokenization errors or either to remove some data"
   ]
  },
  {
   "cell_type": "code",
   "execution_count": 34,
   "metadata": {},
   "outputs": [
    {
     "data": {
      "text/html": [
       "<div>\n",
       "<style scoped>\n",
       "    .dataframe tbody tr th:only-of-type {\n",
       "        vertical-align: middle;\n",
       "    }\n",
       "\n",
       "    .dataframe tbody tr th {\n",
       "        vertical-align: top;\n",
       "    }\n",
       "\n",
       "    .dataframe thead th {\n",
       "        text-align: right;\n",
       "    }\n",
       "</style>\n",
       "<table border=\"1\" class=\"dataframe\">\n",
       "  <thead>\n",
       "    <tr style=\"text-align: right;\">\n",
       "      <th></th>\n",
       "      <th>event ID</th>\n",
       "      <th>process ID</th>\n",
       "      <th>event weight</th>\n",
       "      <th>MET</th>\n",
       "      <th>METphi</th>\n",
       "      <th>obj1</th>\n",
       "      <th>E1</th>\n",
       "      <th>pt1</th>\n",
       "      <th>eta1</th>\n",
       "      <th>phi1</th>\n",
       "      <th>...</th>\n",
       "      <th>obj11</th>\n",
       "      <th>E11</th>\n",
       "      <th>pt11</th>\n",
       "      <th>eta11</th>\n",
       "      <th>phi11</th>\n",
       "      <th>obj12</th>\n",
       "      <th>E13</th>\n",
       "      <th>pt14</th>\n",
       "      <th>eta15</th>\n",
       "      <th>phi16</th>\n",
       "    </tr>\n",
       "  </thead>\n",
       "  <tbody>\n",
       "    <tr>\n",
       "      <th>0</th>\n",
       "      <td>354</td>\n",
       "      <td>monojet_Zp2000.0_DM_50.0</td>\n",
       "      <td>0.000024</td>\n",
       "      <td>832841.0</td>\n",
       "      <td>-1.22431</td>\n",
       "      <td>b</td>\n",
       "      <td>947383.0</td>\n",
       "      <td>824498.0</td>\n",
       "      <td>-0.523103</td>\n",
       "      <td>1.644210</td>\n",
       "      <td>...</td>\n",
       "      <td>NaN</td>\n",
       "      <td>NaN</td>\n",
       "      <td>NaN</td>\n",
       "      <td>NaN</td>\n",
       "      <td>NaN</td>\n",
       "      <td>NaN</td>\n",
       "      <td>NaN</td>\n",
       "      <td>NaN</td>\n",
       "      <td>NaN</td>\n",
       "      <td>NaN</td>\n",
       "    </tr>\n",
       "    <tr>\n",
       "      <th>1</th>\n",
       "      <td>354</td>\n",
       "      <td>monojet_Zp2000.0_DM_50.0</td>\n",
       "      <td>0.000024</td>\n",
       "      <td>732115.0</td>\n",
       "      <td>1.17245</td>\n",
       "      <td>j</td>\n",
       "      <td>1069460.0</td>\n",
       "      <td>751597.0</td>\n",
       "      <td>0.858186</td>\n",
       "      <td>-1.842170</td>\n",
       "      <td>...</td>\n",
       "      <td>NaN</td>\n",
       "      <td>NaN</td>\n",
       "      <td>NaN</td>\n",
       "      <td>NaN</td>\n",
       "      <td>NaN</td>\n",
       "      <td>NaN</td>\n",
       "      <td>NaN</td>\n",
       "      <td>NaN</td>\n",
       "      <td>NaN</td>\n",
       "      <td>NaN</td>\n",
       "    </tr>\n",
       "    <tr>\n",
       "      <th>2</th>\n",
       "      <td>354</td>\n",
       "      <td>monojet_Zp2000.0_DM_50.0</td>\n",
       "      <td>0.000024</td>\n",
       "      <td>1056280.0</td>\n",
       "      <td>-3.06744</td>\n",
       "      <td>j</td>\n",
       "      <td>676000.0</td>\n",
       "      <td>640429.0</td>\n",
       "      <td>0.330450</td>\n",
       "      <td>0.704554</td>\n",
       "      <td>...</td>\n",
       "      <td>NaN</td>\n",
       "      <td>NaN</td>\n",
       "      <td>NaN</td>\n",
       "      <td>NaN</td>\n",
       "      <td>NaN</td>\n",
       "      <td>NaN</td>\n",
       "      <td>NaN</td>\n",
       "      <td>NaN</td>\n",
       "      <td>NaN</td>\n",
       "      <td>NaN</td>\n",
       "    </tr>\n",
       "    <tr>\n",
       "      <th>3</th>\n",
       "      <td>354</td>\n",
       "      <td>monojet_Zp2000.0_DM_50.0</td>\n",
       "      <td>0.000024</td>\n",
       "      <td>631781.0</td>\n",
       "      <td>1.64181</td>\n",
       "      <td>j</td>\n",
       "      <td>936707.0</td>\n",
       "      <td>616229.0</td>\n",
       "      <td>0.973383</td>\n",
       "      <td>-1.565920</td>\n",
       "      <td>...</td>\n",
       "      <td>NaN</td>\n",
       "      <td>NaN</td>\n",
       "      <td>NaN</td>\n",
       "      <td>NaN</td>\n",
       "      <td>NaN</td>\n",
       "      <td>NaN</td>\n",
       "      <td>NaN</td>\n",
       "      <td>NaN</td>\n",
       "      <td>NaN</td>\n",
       "      <td>NaN</td>\n",
       "    </tr>\n",
       "    <tr>\n",
       "      <th>4</th>\n",
       "      <td>354</td>\n",
       "      <td>monojet_Zp2000.0_DM_50.0</td>\n",
       "      <td>0.000024</td>\n",
       "      <td>457316.0</td>\n",
       "      <td>-1.87536</td>\n",
       "      <td>j</td>\n",
       "      <td>640313.0</td>\n",
       "      <td>589524.0</td>\n",
       "      <td>0.390749</td>\n",
       "      <td>1.237340</td>\n",
       "      <td>...</td>\n",
       "      <td>NaN</td>\n",
       "      <td>NaN</td>\n",
       "      <td>NaN</td>\n",
       "      <td>NaN</td>\n",
       "      <td>NaN</td>\n",
       "      <td>NaN</td>\n",
       "      <td>NaN</td>\n",
       "      <td>NaN</td>\n",
       "      <td>NaN</td>\n",
       "      <td>NaN</td>\n",
       "    </tr>\n",
       "  </tbody>\n",
       "</table>\n",
       "<p>5 rows × 65 columns</p>\n",
       "</div>"
      ],
      "text/plain": [
       "   event ID                process ID  event weight        MET   METphi obj1  \\\n",
       "0       354  monojet_Zp2000.0_DM_50.0      0.000024   832841.0 -1.22431    b   \n",
       "1       354  monojet_Zp2000.0_DM_50.0      0.000024   732115.0  1.17245    j   \n",
       "2       354  monojet_Zp2000.0_DM_50.0      0.000024  1056280.0 -3.06744    j   \n",
       "3       354  monojet_Zp2000.0_DM_50.0      0.000024   631781.0  1.64181    j   \n",
       "4       354  monojet_Zp2000.0_DM_50.0      0.000024   457316.0 -1.87536    j   \n",
       "\n",
       "          E1       pt1      eta1      phi1  ... obj11  E11  pt11  eta11  \\\n",
       "0   947383.0  824498.0 -0.523103  1.644210  ...   NaN  NaN   NaN    NaN   \n",
       "1  1069460.0  751597.0  0.858186 -1.842170  ...   NaN  NaN   NaN    NaN   \n",
       "2   676000.0  640429.0  0.330450  0.704554  ...   NaN  NaN   NaN    NaN   \n",
       "3   936707.0  616229.0  0.973383 -1.565920  ...   NaN  NaN   NaN    NaN   \n",
       "4   640313.0  589524.0  0.390749  1.237340  ...   NaN  NaN   NaN    NaN   \n",
       "\n",
       "   phi11 obj12  E13  pt14  eta15  phi16  \n",
       "0    NaN   NaN  NaN   NaN    NaN    NaN  \n",
       "1    NaN   NaN  NaN   NaN    NaN    NaN  \n",
       "2    NaN   NaN  NaN   NaN    NaN    NaN  \n",
       "3    NaN   NaN  NaN   NaN    NaN    NaN  \n",
       "4    NaN   NaN  NaN   NaN    NaN    NaN  \n",
       "\n",
       "[5 rows x 65 columns]"
      ]
     },
     "execution_count": 34,
     "metadata": {},
     "output_type": "execute_result"
    }
   ],
   "source": [
    "import pandas as pd\n",
    "\n",
    "data_path = 'Data/clean_data.csv'\n",
    "col_names = [\"event ID\", \"process ID\", \"event weight\", \"MET\", \"METphi\", \n",
    "             \"obj1\", \"E1\", \"pt1\", \"eta1\",\"phi1\", \"obj2\", \"E2\", \"pt2\", \"eta2\", \"phi2\",\n",
    "             \"obj3\", \"E3\", \"pt3\", \"eta3\",\"phi3\", \"obj4\", \"E4\", \"pt4\", \"eta4\", \"phi4\",\n",
    "             \"obj5\", \"E5\", \"pt5\", \"eta5\",\"phi5\", \"obj6\", \"E6\", \"pt6\", \"eta6\", \"phi6\",\n",
    "             \"obj7\", \"E7\", \"pt7\", \"eta7\", \"phi7\", \"obj8\", \"E8\", \"pt8\", \"eta8\", \"phi8\", \n",
    "             \"obj9\", \"E9\", \"pt9\", \"eta9\" , \"phi9\", \"obj10\", \"E10\", \"pt10\", \"eta10\", \"phi10\",\n",
    "             \"obj11\", \"E11\", \"pt11\", \"eta11\" , \"phi11\", \"obj12\", \"E13\", \"pt14\", \"eta15\" , \"phi16\"]\n",
    "\n",
    "data = pd.read_csv(data_path,names = col_names, header = None)\n",
    "data.head()"
   ]
  },
  {
   "cell_type": "markdown",
   "metadata": {},
   "source": [
    "Removing the first 5 columns (are not necessary for our purposes). After that, vertically stacking the other columns by keeping only \"j\" objects as needed"
   ]
  },
  {
   "cell_type": "code",
   "execution_count": 35,
   "metadata": {},
   "outputs": [],
   "source": [
    "data = data.iloc[:,5:]\n",
    "data_arr = []\n",
    "for i in range(0, data.shape[1], 5):\n",
    "    data_arr.append(data[data.iloc[:,i] ==\"j\"].iloc[:,i:i+5])\n"
   ]
  },
  {
   "cell_type": "code",
   "execution_count": 36,
   "metadata": {},
   "outputs": [],
   "source": [
    "data_final = data_arr[0]\n",
    "for i in range(1, len(data_arr)):\n",
    "    data_arr[i].columns = data_arr[0].columns\n",
    "    data_final = pd.concat([data_final,data_arr[i]], ignore_index = True)    \n",
    "    \n",
    "data_final.columns = [\"obj\", \"E\", \"pt\", \"eta\", \"phi\"]"
   ]
  },
  {
   "cell_type": "code",
   "execution_count": 37,
   "metadata": {},
   "outputs": [
    {
     "data": {
      "text/html": [
       "<div>\n",
       "<style scoped>\n",
       "    .dataframe tbody tr th:only-of-type {\n",
       "        vertical-align: middle;\n",
       "    }\n",
       "\n",
       "    .dataframe tbody tr th {\n",
       "        vertical-align: top;\n",
       "    }\n",
       "\n",
       "    .dataframe thead th {\n",
       "        text-align: right;\n",
       "    }\n",
       "</style>\n",
       "<table border=\"1\" class=\"dataframe\">\n",
       "  <thead>\n",
       "    <tr style=\"text-align: right;\">\n",
       "      <th></th>\n",
       "      <th>obj</th>\n",
       "      <th>E</th>\n",
       "      <th>pt</th>\n",
       "      <th>eta</th>\n",
       "      <th>phi</th>\n",
       "    </tr>\n",
       "  </thead>\n",
       "  <tbody>\n",
       "    <tr>\n",
       "      <th>0</th>\n",
       "      <td>j</td>\n",
       "      <td>1069460.0</td>\n",
       "      <td>751597.0</td>\n",
       "      <td>0.858186</td>\n",
       "      <td>-1.842170</td>\n",
       "    </tr>\n",
       "    <tr>\n",
       "      <th>1</th>\n",
       "      <td>j</td>\n",
       "      <td>676000.0</td>\n",
       "      <td>640429.0</td>\n",
       "      <td>0.330450</td>\n",
       "      <td>0.704554</td>\n",
       "    </tr>\n",
       "    <tr>\n",
       "      <th>2</th>\n",
       "      <td>j</td>\n",
       "      <td>936707.0</td>\n",
       "      <td>616229.0</td>\n",
       "      <td>0.973383</td>\n",
       "      <td>-1.565920</td>\n",
       "    </tr>\n",
       "    <tr>\n",
       "      <th>3</th>\n",
       "      <td>j</td>\n",
       "      <td>640313.0</td>\n",
       "      <td>589524.0</td>\n",
       "      <td>0.390749</td>\n",
       "      <td>1.237340</td>\n",
       "    </tr>\n",
       "    <tr>\n",
       "      <th>4</th>\n",
       "      <td>j</td>\n",
       "      <td>583373.0</td>\n",
       "      <td>545730.0</td>\n",
       "      <td>0.364057</td>\n",
       "      <td>-1.607320</td>\n",
       "    </tr>\n",
       "  </tbody>\n",
       "</table>\n",
       "</div>"
      ],
      "text/plain": [
       "  obj          E        pt       eta       phi\n",
       "0   j  1069460.0  751597.0  0.858186 -1.842170\n",
       "1   j   676000.0  640429.0  0.330450  0.704554\n",
       "2   j   936707.0  616229.0  0.973383 -1.565920\n",
       "3   j   640313.0  589524.0  0.390749  1.237340\n",
       "4   j   583373.0  545730.0  0.364057 -1.607320"
      ]
     },
     "execution_count": 37,
     "metadata": {},
     "output_type": "execute_result"
    }
   ],
   "source": [
    "data_final.head()"
   ]
  },
  {
   "cell_type": "markdown",
   "metadata": {},
   "source": [
    "Data are on completely different scales --> normalization (for each column on its own) will help the convergence of our AE. "
   ]
  },
  {
   "cell_type": "code",
   "execution_count": 38,
   "metadata": {},
   "outputs": [],
   "source": [
    "# Min Max Normalization --> values between 0 and 1 \n",
    "def min_max_normalization(df):\n",
    "    result = df.copy()\n",
    "    for feature_name in df.columns:\n",
    "        max_value = df[feature_name].max()\n",
    "        min_value = df[feature_name].min()\n",
    "        result[feature_name] = (df[feature_name] - min_value) / (max_value - min_value)\n",
    "    return result\n",
    "\n",
    "## mean Normalization \n",
    "def mean_normalization(df):\n",
    "    result = df.copy()\n",
    "    for feature_name in df.columns:\n",
    "        mean_value = df[feature_name].mean()\n",
    "        std_value = df[feature_name].std()\n",
    "        result[feature_name] = (df[feature_name] - mean_value) / std_value\n",
    "    return result"
   ]
  },
  {
   "cell_type": "markdown",
   "metadata": {},
   "source": [
    "I've tried both of them and trained the Deep AE but min max normalization is more effective (loss 10 times smaller wrt mean_normalization)"
   ]
  },
  {
   "cell_type": "code",
   "execution_count": 39,
   "metadata": {},
   "outputs": [],
   "source": [
    "data_final = min_max_normalization(data_final.iloc[:,1:])\n",
    "#data_final = mean_normalization(data_final.iloc[:,1:])"
   ]
  },
  {
   "cell_type": "markdown",
   "metadata": {
    "id": "bibDFEI2ATXH"
   },
   "source": [
    "Here we do a regular train / validation set split, I decided to keep the 80/20 ratio since the original notebook has this one. "
   ]
  },
  {
   "cell_type": "code",
   "execution_count": 40,
   "metadata": {
    "id": "dKd2VoJkATXH",
    "outputId": "e5fb6791-428e-48c4-b574-2d8b02298e77"
   },
   "outputs": [
    {
     "name": "stdout",
     "output_type": "stream",
     "text": [
      "Training sample:\n",
      "              E        pt       eta       phi\n",
      "17896  0.042025  0.033943  0.657096  0.688025\n",
      "1473   0.096903  0.182722  0.552473  0.850072\n",
      "12228  0.000110  0.001224  0.503127  0.758903\n",
      "18165  0.043635  0.000543  0.809528  0.485277\n",
      "16891  0.004692  0.006915  0.438416  0.475933\n",
      "\n",
      "\n",
      "Testing sample:\n",
      "              E        pt       eta       phi\n",
      "2172   0.170004  0.357041  0.518484  0.018216\n",
      "21009  0.001745  0.001704  0.575366  0.722839\n",
      "2628   0.132269  0.280237  0.515589  0.494558\n",
      "11520  0.028999  0.047895  0.577931  0.076552\n",
      "17678  0.020783  0.027788  0.600477  0.634701\n",
      "\n",
      "\n",
      "The number of entries in the training data: 18128\n",
      "The number of entries in the validation data: 4533\n"
     ]
    }
   ],
   "source": [
    "# splitting train / test (maybe validation would be more appropriate)\n",
    "from sklearn.model_selection import train_test_split\n",
    "\n",
    "train, test = train_test_split(data_final, test_size = 0.2, random_state = 137)\n",
    "\n",
    "# Just looking at our data\n",
    "print('Training sample:')\n",
    "print(train.head())\n",
    "\n",
    "print('\\n')\n",
    "\n",
    "print('Testing sample:')\n",
    "print(test.head())\n",
    "\n",
    "print('\\n')\n",
    "\n",
    "print('The number of entries in the training data:', len(train))\n",
    "print('The number of entries in the validation data:', len(test))"
   ]
  },
  {
   "cell_type": "markdown",
   "metadata": {
    "id": "tieXBBYhATXH"
   },
   "source": [
    "Now we plot the data using the matplotlib library. The units reflect the normalization, but it's the shape that we care about. (keeping the same as the original notebook, just changed the name from m to E in order to keep the same one as the Dataset documentation)"
   ]
  },
  {
   "cell_type": "code",
   "execution_count": 41,
   "metadata": {
    "id": "4GBvKPKEATXH",
    "outputId": "c77d0165-4a23-48b3-b84a-dc7117bc3dfe"
   },
   "outputs": [
    {
     "data": {
      "image/png": "[encoded data removed]",
      "text/plain": [
       "<Figure size 432x288 with 1 Axes>"
      ]
     },
     "metadata": {},
     "output_type": "display_data"
    },
    {
     "data": {
      "image/png": "[encoded data removed]",
      "text/plain": [
       "<Figure size 432x288 with 1 Axes>"
      ]
     },
     "metadata": {},
     "output_type": "display_data"
    },
    {
     "data": {
      "image/png": "[encoded data removed]",
      "text/plain": [
       "<Figure size 432x288 with 1 Axes>"
      ]
     },
     "metadata": {},
     "output_type": "display_data"
    },
    {
     "data": {
      "image/png": "[encoded data removed]",
      "text/plain": [
       "<Figure size 432x288 with 1 Axes>"
      ]
     },
     "metadata": {},
     "output_type": "display_data"
    }
   ],
   "source": [
    "import matplotlib.pyplot as plt\n",
    "import seaborn as sns\n",
    "sns.set_theme()\n",
    "\n",
    "unit_list = ['[log(GeV)]', '[rad/3]', '[rad/3]', '[log(GeV)]']\n",
    "variable_list = [r'$p_T$', r'$\\eta$', r'$\\phi$', r'$E$']\n",
    "\n",
    "branches=[\"pt\",\"eta\",\"phi\",\"E\"]\n",
    "\n",
    "n_bins = 100\n",
    "\n",
    "for kk in range(0,4):\n",
    "    n_hist_data, bin_edges, _ = plt.hist(train[branches[kk]], color='gray', label='Input', alpha=1, bins=n_bins)\n",
    "    plt.suptitle(variable_list[kk])\n",
    "    plt.xlabel(xlabel=variable_list[kk] + ' ' + unit_list[kk])\n",
    "    plt.ylabel('# of events')\n",
    "    plt.savefig(\"fourmomentum_\"+branches[kk],dpi=300)\n",
    "    plt.grid(alpha = 0.3)\n",
    "    plt.show()"
   ]
  },
  {
   "cell_type": "markdown",
   "metadata": {
    "id": "A1F5G1FNATXH"
   },
   "source": [
    "## Setting up the network\n",
    "\n",
    "I decided to keep the same one as the validation loss is already around  10^(-6)"
   ]
  },
  {
   "cell_type": "markdown",
   "metadata": {
    "id": "74jePPAIATXI"
   },
   "source": [
    "### Preparing the data"
   ]
  },
  {
   "cell_type": "markdown",
   "metadata": {
    "id": "l-rUOyeoATXI"
   },
   "source": [
    "Adding the two datasets as TensorDatasets to PyTorch (also loading all other classes we'll need later)"
   ]
  },
  {
   "cell_type": "code",
   "execution_count": 42,
   "metadata": {
    "id": "2XEFev5gATXI"
   },
   "outputs": [],
   "source": [
    "import torch\n",
    "import torch.nn as nn\n",
    "import torch.optim as optim\n",
    "import torch.utils.data\n",
    "from torch.autograd import Variable\n",
    "\n",
    "from torch.utils.data import TensorDataset\n",
    "from torch.utils.data import DataLoader\n",
    "\n",
    "from fastai import learner\n",
    "from fastai.data import core\n",
    "\n",
    "train_x = train\n",
    "test_x = test\n",
    "train_y = train_x  # y = x since we are building an autoencoder\n",
    "test_y = test_x\n",
    "\n",
    "# Constructs a tensor object of the data and wraps them in a TensorDataset object.\n",
    "train_ds = TensorDataset(torch.tensor(train_x.values, dtype=torch.float), torch.tensor(train_y.values, dtype=torch.float))\n",
    "valid_ds = TensorDataset(torch.tensor(test_x.values, dtype=torch.float), torch.tensor(test_y.values, dtype=torch.float))"
   ]
  },
  {
   "cell_type": "markdown",
   "metadata": {
    "id": "odJEvt4LATXI"
   },
   "source": [
    "We now set things up to load the data, and we use a batch size that was optimized by previous students...note also that this is fastai v2, migration thanks to Jessica Lastow."
   ]
  },
  {
   "cell_type": "code",
   "execution_count": 43,
   "metadata": {
    "id": "ixPKKKPUATXI"
   },
   "outputs": [],
   "source": [
    "bs = 256\n",
    "\n",
    "# Converts the TensorDataset into a DataLoader object and combines into one DataLoaders object (a basic wrapper\n",
    "# around several DataLoader objects). \n",
    "train_dl = DataLoader(train_ds, batch_size=bs, shuffle=True)\n",
    "valid_dl = DataLoader(valid_ds, batch_size=bs * 2)\n",
    "dls = core.DataLoaders(train_dl, valid_dl)"
   ]
  },
  {
   "cell_type": "markdown",
   "metadata": {
    "id": "PO1x0QHwATXI"
   },
   "source": [
    "### Preparing the network"
   ]
  },
  {
   "cell_type": "markdown",
   "metadata": {
    "id": "kF3ZY95JATXI"
   },
   "source": [
    "Here we have an example network. Details aren't too important, as long as they match what was already trained for us...in this case we have a LeakyReLU, tanh activation function, and a number of layers that goes from 4 to 200 to 20 to 3 (number of features in the hidden layer that we pick for testing compression) and then back all the way to 4. "
   ]
  },
  {
   "cell_type": "code",
   "execution_count": 44,
   "metadata": {
    "id": "0SehD8TpATXI",
    "outputId": "0b00e445-b31e-40ea-9062-89485d0b28b1"
   },
   "outputs": [
    {
     "data": {
      "text/plain": [
       "AE_3D_200_LeakyReLU(\n",
       "  (en1): Linear(in_features=4, out_features=200, bias=True)\n",
       "  (en2): Linear(in_features=200, out_features=200, bias=True)\n",
       "  (en3): Linear(in_features=200, out_features=20, bias=True)\n",
       "  (en4): Linear(in_features=20, out_features=3, bias=True)\n",
       "  (de1): Linear(in_features=3, out_features=20, bias=True)\n",
       "  (de2): Linear(in_features=20, out_features=200, bias=True)\n",
       "  (de3): Linear(in_features=200, out_features=200, bias=True)\n",
       "  (de4): Linear(in_features=200, out_features=4, bias=True)\n",
       "  (tanh): Tanh()\n",
       ")"
      ]
     },
     "execution_count": 44,
     "metadata": {},
     "output_type": "execute_result"
    }
   ],
   "source": [
    "class AE_3D_200_LeakyReLU(nn.Module):\n",
    "    def __init__(self, n_features=4):\n",
    "        super(AE_3D_200_LeakyReLU, self).__init__()\n",
    "        self.en1 = nn.Linear(n_features, 200)\n",
    "        self.en2 = nn.Linear(200, 200)\n",
    "        self.en3 = nn.Linear(200, 20)\n",
    "        self.en4 = nn.Linear(20, 3)\n",
    "        self.de1 = nn.Linear(3, 20)\n",
    "        self.de2 = nn.Linear(20, 200)\n",
    "        self.de3 = nn.Linear(200, 200)\n",
    "        self.de4 = nn.Linear(200, n_features)\n",
    "        self.tanh = nn.Tanh()\n",
    "\n",
    "    def encode(self, x):\n",
    "        return self.en4(self.tanh(self.en3(self.tanh(self.en2(self.tanh(self.en1(x)))))))\n",
    "\n",
    "    def decode(self, x):\n",
    "        return self.de4(self.tanh(self.de3(self.tanh(self.de2(self.tanh(self.de1(self.tanh(x))))))))\n",
    "\n",
    "    def forward(self, x):\n",
    "        z = self.encode(x)\n",
    "        return self.decode(z)\n",
    "\n",
    "    def describe(self):\n",
    "        return 'in-200-200-20-3-20-200-200-out'\n",
    "\n",
    "#model = AE_3D_200_LeakyReLU().double()\n",
    "model = AE_3D_200_LeakyReLU()\n",
    "model.to('cpu')"
   ]
  },
  {
   "cell_type": "markdown",
   "metadata": {
    "id": "7VyNJ9jSATXI"
   },
   "source": [
    "We now have to pick a loss function - MSE loss is appropriate for a compression autoencoder since it reflects the [(input-output)/input] physical quantity that we want to minimize. "
   ]
  },
  {
   "cell_type": "code",
   "execution_count": 45,
   "metadata": {
    "id": "rQ6GFlYWATXJ"
   },
   "outputs": [],
   "source": [
    "from fastai.metrics import mse\n",
    "\n",
    "loss_func = nn.MSELoss()\n",
    "\n",
    "#bn_wd = False  # Don't use weight decay for batchnorm layers\n",
    "#true_wd = True  # weight decay will be used for all optimizers\n",
    "wd = 1e-6\n",
    "\n",
    "recorder = learner.Recorder()\n",
    "learn = learner.Learner(dls, model=model, wd=wd, loss_func=loss_func, cbs=recorder)\n",
    "#was: learn = basic_train.Learner(data=db, model=model, loss_func=loss_func, wd=wd, callback_fns=ActivationStats, bn_wd=bn_wd, true_wd=true_wd)"
   ]
  },
  {
   "cell_type": "markdown",
   "metadata": {
    "id": "oQC6xHnwATXL"
   },
   "source": [
    "## Alternative 2: Training a new network"
   ]
  },
  {
   "cell_type": "markdown",
   "metadata": {
    "id": "itnfADG4ATXL"
   },
   "source": [
    "Instead of using a pre-trained network, an alternative is to train a new network and use that instead. "
   ]
  },
  {
   "cell_type": "markdown",
   "metadata": {
    "id": "si47O23UATXL"
   },
   "source": [
    "First, we want to find the best learning rate. The learning rate is a hyper-paramater that sets how much the weights of the network will change each step with respect to the loss gradient.\n",
    "\n",
    "Then we plot the loss versus the learning rates. We're interested in finding a good order of magnitude of learning rate, so we plot with a log scale.\n",
    "\n",
    "A good value for the learning rates is then either:\n",
    "- one tenth of the minimum before the divergence\n",
    "- when the slope is the steepest"
   ]
  },
  {
   "cell_type": "code",
   "execution_count": 46,
   "metadata": {
    "id": "D4f9XWZhATXL",
    "outputId": "75605bb3-5855-44ee-8120-f4d4032feb85"
   },
   "outputs": [
    {
     "name": "stdout",
     "output_type": "stream",
     "text": [
      "Learning rate with the minimum loss: 0.002290867641568184\n",
      "Learning rate with the steepest gradient: 0.0003981071640737355\n"
     ]
    },
    {
     "data": {
      "text/plain": [
       "Text(0.5, 0.98, 'Learning Rate Tuning')"
      ]
     },
     "execution_count": 46,
     "metadata": {},
     "output_type": "execute_result"
    },
    {
     "data": {
      "image/png": "[encoded data removed]",
      "text/plain": [
       "<Figure size 432x288 with 1 Axes>"
      ]
     },
     "metadata": {},
     "output_type": "display_data"
    }
   ],
   "source": [
    "from fastai.callback import schedule\n",
    "\n",
    "lr_min, lr_steep = learn.lr_find()\n",
    "\n",
    "print('Learning rate with the minimum loss:', lr_min)\n",
    "print('Learning rate with the steepest gradient:', lr_steep)\n",
    "plt.suptitle(\"Learning Rate Tuning\")"
   ]
  },
  {
   "cell_type": "markdown",
   "metadata": {
    "id": "XUb8_BqNATXL"
   },
   "source": [
    "Now we want to run the training!\n",
    "\n",
    "User-chosen variables:\n",
    "- n_epoch: The number of epochs, i.e how many times the to run through all of the training data once (i.e the 1266046 entries, see cell 2)\n",
    "- lr: The learning rate. Either choose lr_min, lr_steep from above or set your own.\n"
   ]
  },
  {
   "cell_type": "code",
   "execution_count": 48,
   "metadata": {
    "id": "c01TZYZjATXL",
    "outputId": "774b00e9-5c59-4fbe-ec2e-68406014cc99",
    "scrolled": true
   },
   "outputs": [
    {
     "name": "stdout",
     "output_type": "stream",
     "text": [
      "[0, 0.04500723257660866, 0.0318126454949379, '00:00']\n",
      "[0, 0.04500723257660866, 0.0318126454949379, '00:00']\n",
      "[1, 0.02468903921544552, 0.011494181118905544, '00:00']\n",
      "[1, 0.02468903921544552, 0.011494181118905544, '00:00']\n",
      "[2, 0.011626262217760086, 0.006391990929841995, '00:00']\n",
      "[2, 0.011626262217760086, 0.006391990929841995, '00:00']\n",
      "[3, 0.005245528649538755, 0.0012356950901448727, '00:00']\n",
      "[3, 0.005245528649538755, 0.0012356950901448727, '00:00']\n",
      "[4, 0.002075654687359929, 0.0009959039743989706, '00:00']\n",
      "[4, 0.002075654687359929, 0.0009959039743989706, '00:00']\n",
      "[5, 0.0012648424599319696, 0.000948333356063813, '00:00']\n",
      "[5, 0.0012648424599319696, 0.000948333356063813, '00:00']\n",
      "[6, 0.0010250626364722848, 0.0009014835231937468, '00:00']\n",
      "[6, 0.0010250626364722848, 0.0009014835231937468, '00:00']\n",
      "[7, 0.0009690481820143759, 0.0008766193059273064, '00:00']\n",
      "[7, 0.0009690481820143759, 0.0008766193059273064, '00:00']\n",
      "[8, 0.0009257459314540029, 0.000832605583127588, '00:00']\n",
      "[8, 0.0009257459314540029, 0.000832605583127588, '00:00']\n",
      "[9, 0.0008967511239461601, 0.0007891166605986655, '00:00']\n",
      "[9, 0.0008967511239461601, 0.0007891166605986655, '00:00']\n",
      "[10, 0.0007995001506060362, 0.0006238799542188644, '00:00']\n",
      "[10, 0.0007995001506060362, 0.0006238799542188644, '00:00']\n",
      "[11, 0.0007047756225802004, 0.0006631449214182794, '00:00']\n",
      "[11, 0.0007047756225802004, 0.0006631449214182794, '00:00']\n",
      "[12, 0.0006099609308876097, 0.0006650611176155508, '00:00']\n",
      "[12, 0.0006099609308876097, 0.0006650611176155508, '00:00']\n",
      "[13, 0.0005636201822198927, 0.00076649448601529, '00:00']\n",
      "[13, 0.0005636201822198927, 0.00076649448601529, '00:00']\n",
      "[14, 0.0006298901280388236, 0.0004914203891530633, '00:00']\n",
      "[14, 0.0006298901280388236, 0.0004914203891530633, '00:00']\n",
      "[15, 0.0006542742485180497, 0.0005366427940316498, '00:00']\n",
      "[15, 0.0006542742485180497, 0.0005366427940316498, '00:00']\n",
      "[16, 0.0006136971642263234, 0.0006630225689150393, '00:00']\n",
      "[16, 0.0006136971642263234, 0.0006630225689150393, '00:00']\n",
      "[17, 0.0006065789493732154, 0.0004388874804135412, '00:00']\n",
      "[17, 0.0006065789493732154, 0.0004388874804135412, '00:00']\n",
      "[18, 0.000581202155444771, 0.0007805909845046699, '00:00']\n",
      "[18, 0.000581202155444771, 0.0007805909845046699, '00:00']\n",
      "[19, 0.0005089606856927276, 0.0003272405592724681, '00:00']\n",
      "[19, 0.0005089606856927276, 0.0003272405592724681, '00:00']\n",
      "[20, 0.0005206806818023324, 0.000701868673786521, '00:00']\n",
      "[20, 0.0005206806818023324, 0.000701868673786521, '00:00']\n",
      "[21, 0.0003541794721968472, 0.00014889909652993083, '00:00']\n",
      "[21, 0.0003541794721968472, 0.00014889909652993083, '00:00']\n",
      "[22, 0.0003386577882338315, 0.00016511938883922994, '00:00']\n",
      "[22, 0.0003386577882338315, 0.00016511938883922994, '00:00']\n",
      "[23, 0.00026042471290566027, 0.0001441698695998639, '00:00']\n",
      "[23, 0.00026042471290566027, 0.0001441698695998639, '00:00']\n",
      "[24, 0.00028677063528448343, 0.00010150080925086513, '00:00']\n",
      "[24, 0.00028677063528448343, 0.00010150080925086513, '00:00']\n",
      "[25, 0.0002241747424704954, 8.209567749872804e-05, '00:00']\n",
      "[25, 0.0002241747424704954, 8.209567749872804e-05, '00:00']\n",
      "[26, 0.0001958186476258561, 0.0001750672236084938, '00:00']\n",
      "[26, 0.0001958186476258561, 0.0001750672236084938, '00:00']\n",
      "[27, 0.00022189287119545043, 0.0001130474847741425, '00:00']\n",
      "[27, 0.00022189287119545043, 0.0001130474847741425, '00:00']\n",
      "[28, 0.00019090354908257723, 0.0001330635859631002, '00:00']\n",
      "[28, 0.00019090354908257723, 0.0001330635859631002, '00:00']\n",
      "[29, 0.00016649831377435476, 0.00012650281132664531, '00:00']\n",
      "[29, 0.00016649831377435476, 0.00012650281132664531, '00:00']\n",
      "[30, 0.0001784931810107082, 0.00013031894923187792, '00:00']\n",
      "[30, 0.0001784931810107082, 0.00013031894923187792, '00:00']\n",
      "[31, 0.00013164416304789484, 3.988628668594174e-05, '00:00']\n",
      "[31, 0.00013164416304789484, 3.988628668594174e-05, '00:00']\n",
      "[32, 0.00011587473272811621, 7.053613080643117e-05, '00:00']\n",
      "[32, 0.00011587473272811621, 7.053613080643117e-05, '00:00']\n",
      "[33, 0.000128542713355273, 0.00014851974265184253, '00:00']\n",
      "[33, 0.000128542713355273, 0.00014851974265184253, '00:00']\n",
      "[34, 0.00011194334365427494, 0.00012584798969328403, '00:00']\n",
      "[34, 0.00011194334365427494, 0.00012584798969328403, '00:00']\n",
      "[35, 8.752301073400304e-05, 3.0244265872170217e-05, '00:00']\n",
      "[35, 8.752301073400304e-05, 3.0244265872170217e-05, '00:00']\n",
      "[36, 9.649914863985032e-05, 5.751374192186631e-05, '00:00']\n",
      "[36, 9.649914863985032e-05, 5.751374192186631e-05, '00:00']\n",
      "[37, 9.703698015073314e-05, 9.239453356713057e-05, '00:00']\n",
      "[37, 9.703698015073314e-05, 9.239453356713057e-05, '00:00']\n",
      "[38, 0.00010636859951773658, 0.00012852821964770555, '00:00']\n",
      "[38, 0.00010636859951773658, 0.00012852821964770555, '00:00']\n",
      "[39, 0.00010828326048795134, 9.279313962906599e-05, '00:00']\n",
      "[39, 0.00010828326048795134, 9.279313962906599e-05, '00:00']\n",
      "[40, 6.272698374232277e-05, 4.861092384089716e-05, '00:00']\n",
      "[40, 6.272698374232277e-05, 4.861092384089716e-05, '00:00']\n",
      "[41, 9.230589057551697e-05, 3.381838905625045e-05, '00:00']\n",
      "[41, 9.230589057551697e-05, 3.381838905625045e-05, '00:00']\n",
      "[42, 7.377119618467987e-05, 6.711076275678352e-05, '00:00']\n",
      "[42, 7.377119618467987e-05, 6.711076275678352e-05, '00:00']\n",
      "[43, 6.0500879044411704e-05, 4.910882853437215e-05, '00:00']\n",
      "[43, 6.0500879044411704e-05, 4.910882853437215e-05, '00:00']\n",
      "[44, 4.997039650334045e-05, 9.161722118733451e-05, '00:00']\n",
      "[44, 4.997039650334045e-05, 9.161722118733451e-05, '00:00']\n",
      "[45, 5.8024481404572725e-05, 4.384106432553381e-05, '00:00']\n",
      "[45, 5.8024481404572725e-05, 4.384106432553381e-05, '00:00']\n",
      "[46, 5.8937301218975335e-05, 1.6184170817723498e-05, '00:00']\n",
      "[46, 5.8937301218975335e-05, 1.6184170817723498e-05, '00:00']\n",
      "[47, 4.193041968392208e-05, 2.8658052542596124e-05, '00:00']\n",
      "[47, 4.193041968392208e-05, 2.8658052542596124e-05, '00:00']\n",
      "[48, 4.1345581848872826e-05, 1.8772816474665888e-05, '00:00']\n",
      "[48, 4.1345581848872826e-05, 1.8772816474665888e-05, '00:00']\n",
      "[49, 4.0726659790379927e-05, 3.980974724981934e-05, '00:00']\n",
      "[49, 4.0726659790379927e-05, 3.980974724981934e-05, '00:00']\n",
      "[50, 2.9210297725512646e-05, 1.8850798369385302e-05, '00:00']\n",
      "[50, 2.9210297725512646e-05, 1.8850798369385302e-05, '00:00']\n",
      "[51, 3.305917198304087e-05, 1.7699445379548706e-05, '00:00']\n",
      "[51, 3.305917198304087e-05, 1.7699445379548706e-05, '00:00']\n",
      "[52, 2.805269105010666e-05, 3.917080903192982e-05, '00:00']\n",
      "[52, 2.805269105010666e-05, 3.917080903192982e-05, '00:00']\n",
      "[53, 2.2482199710793793e-05, 1.0516150723560713e-05, '00:00']\n",
      "[53, 2.2482199710793793e-05, 1.0516150723560713e-05, '00:00']\n",
      "[54, 2.4871898858691566e-05, 1.739160143188201e-05, '00:00']\n",
      "[54, 2.4871898858691566e-05, 1.739160143188201e-05, '00:00']\n",
      "[55, 1.8762202671496198e-05, 5.0556329370010644e-05, '00:00']\n",
      "[55, 1.8762202671496198e-05, 5.0556329370010644e-05, '00:00']\n",
      "[56, 2.020731335505843e-05, 1.0874523468373809e-05, '00:00']\n",
      "[56, 2.020731335505843e-05, 1.0874523468373809e-05, '00:00']\n",
      "[57, 1.5044009160192218e-05, 1.1393228305678349e-05, '00:00']\n",
      "[57, 1.5044009160192218e-05, 1.1393228305678349e-05, '00:00']\n",
      "[58, 1.6062775102909654e-05, 7.698896297370084e-06, '00:00']\n",
      "[58, 1.6062775102909654e-05, 7.698896297370084e-06, '00:00']\n",
      "[59, 1.2710394003079273e-05, 7.245424058055505e-06, '00:00']\n",
      "[59, 1.2710394003079273e-05, 7.245424058055505e-06, '00:00']\n",
      "[60, 1.174255976366112e-05, 1.1350611202942673e-05, '00:00']\n",
      "[60, 1.174255976366112e-05, 1.1350611202942673e-05, '00:00']\n",
      "[61, 9.486919225309975e-06, 7.961517439980526e-06, '00:00']\n",
      "[61, 9.486919225309975e-06, 7.961517439980526e-06, '00:00']\n",
      "[62, 9.531744581181556e-06, 1.6835796486702748e-05, '00:00']\n",
      "[62, 9.531744581181556e-06, 1.6835796486702748e-05, '00:00']\n",
      "[63, 7.430572168232175e-06, 4.843591796088731e-06, '00:00']\n",
      "[63, 7.430572168232175e-06, 4.843591796088731e-06, '00:00']\n",
      "[64, 6.818633210059488e-06, 6.8318486228236e-06, '00:00']\n",
      "[64, 6.818633210059488e-06, 6.8318486228236e-06, '00:00']\n",
      "[65, 7.259775884449482e-06, 6.9758193603775e-06, '00:00']\n",
      "[65, 7.259775884449482e-06, 6.9758193603775e-06, '00:00']\n",
      "[66, 5.658676855091471e-06, 8.319851076521445e-06, '00:00']\n",
      "[66, 5.658676855091471e-06, 8.319851076521445e-06, '00:00']\n",
      "[67, 4.852889105677605e-06, 4.316247213864699e-06, '00:00']\n",
      "[67, 4.852889105677605e-06, 4.316247213864699e-06, '00:00']\n",
      "[68, 4.440762040758273e-06, 4.516336048254743e-06, '00:00']\n",
      "[68, 4.440762040758273e-06, 4.516336048254743e-06, '00:00']\n"
     ]
    },
    {
     "name": "stdout",
     "output_type": "stream",
     "text": [
      "[69, 3.983557235187618e-06, 2.8069982818124117e-06, '00:00']\n",
      "[69, 3.983557235187618e-06, 2.8069982818124117e-06, '00:00']\n",
      "[70, 3.5923783343605464e-06, 3.1394997677125502e-06, '00:00']\n",
      "[70, 3.5923783343605464e-06, 3.1394997677125502e-06, '00:00']\n",
      "[71, 3.1280617349693784e-06, 2.401676738372771e-06, '00:00']\n",
      "[71, 3.1280617349693784e-06, 2.401676738372771e-06, '00:00']\n",
      "[72, 3.306607140984852e-06, 3.4562599466880783e-06, '00:00']\n",
      "[72, 3.306607140984852e-06, 3.4562599466880783e-06, '00:00']\n",
      "[73, 2.7571863938646857e-06, 2.1100888716318877e-06, '00:00']\n",
      "[73, 2.7571863938646857e-06, 2.1100888716318877e-06, '00:00']\n",
      "[74, 2.4164776277757483e-06, 2.871737706300337e-06, '00:00']\n",
      "[74, 2.4164776277757483e-06, 2.871737706300337e-06, '00:00']\n",
      "[75, 2.2650913251709426e-06, 1.9155484096700093e-06, '00:00']\n",
      "[75, 2.2650913251709426e-06, 1.9155484096700093e-06, '00:00']\n",
      "[76, 2.1129030756128486e-06, 2.705148290260695e-06, '00:00']\n",
      "[76, 2.1129030756128486e-06, 2.705148290260695e-06, '00:00']\n",
      "[77, 2.134081569238333e-06, 1.6726022522561834e-06, '00:00']\n",
      "[77, 2.134081569238333e-06, 1.6726022522561834e-06, '00:00']\n",
      "[78, 2.1167063550819876e-06, 1.8816706415236695e-06, '00:00']\n",
      "[78, 2.1167063550819876e-06, 1.8816706415236695e-06, '00:00']\n",
      "[79, 1.7856020804174477e-06, 1.653507752052974e-06, '00:00']\n",
      "[79, 1.7856020804174477e-06, 1.653507752052974e-06, '00:00']\n",
      "[80, 1.5143803011596901e-06, 1.555698759148072e-06, '00:00']\n",
      "[80, 1.5143803011596901e-06, 1.555698759148072e-06, '00:00']\n",
      "[81, 1.4408865354198497e-06, 1.4728967698829365e-06, '00:00']\n",
      "[81, 1.4408865354198497e-06, 1.4728967698829365e-06, '00:00']\n",
      "[82, 1.4056877262191847e-06, 1.509866137894278e-06, '00:00']\n",
      "[82, 1.4056877262191847e-06, 1.509866137894278e-06, '00:00']\n",
      "[83, 1.455179358345049e-06, 1.4369751397680375e-06, '00:00']\n",
      "[83, 1.455179358345049e-06, 1.4369751397680375e-06, '00:00']\n",
      "[84, 1.4023365793036646e-06, 1.3673889043275267e-06, '00:00']\n",
      "[84, 1.4023365793036646e-06, 1.3673889043275267e-06, '00:00']\n",
      "[85, 1.3231386901679798e-06, 1.317456394644978e-06, '00:00']\n",
      "[85, 1.3231386901679798e-06, 1.317456394644978e-06, '00:00']\n",
      "[86, 1.3276829804453882e-06, 1.3652825145982206e-06, '00:00']\n",
      "[86, 1.3276829804453882e-06, 1.3652825145982206e-06, '00:00']\n",
      "[87, 1.2518921721493825e-06, 1.2459673826015205e-06, '00:00']\n",
      "[87, 1.2518921721493825e-06, 1.2459673826015205e-06, '00:00']\n",
      "[88, 1.2159199513916974e-06, 1.2079710813850397e-06, '00:00']\n",
      "[88, 1.2159199513916974e-06, 1.2079710813850397e-06, '00:00']\n",
      "[89, 1.170903374259069e-06, 1.1834176802949514e-06, '00:00']\n",
      "[89, 1.170903374259069e-06, 1.1834176802949514e-06, '00:00']\n",
      "[90, 1.1314519952065893e-06, 1.2160331834820681e-06, '00:00']\n",
      "[90, 1.1314519952065893e-06, 1.2160331834820681e-06, '00:00']\n",
      "[91, 1.1270450386291486e-06, 1.1658704579531332e-06, '00:00']\n",
      "[91, 1.1270450386291486e-06, 1.1658704579531332e-06, '00:00']\n",
      "[92, 1.0878344482989633e-06, 1.1641066066658823e-06, '00:00']\n",
      "[92, 1.0878344482989633e-06, 1.1641066066658823e-06, '00:00']\n",
      "[93, 1.0874728104681708e-06, 1.134647732214944e-06, '00:00']\n",
      "[93, 1.0874728104681708e-06, 1.134647732214944e-06, '00:00']\n",
      "[94, 1.0620818784445873e-06, 1.124519030781812e-06, '00:00']\n",
      "[94, 1.0620818784445873e-06, 1.124519030781812e-06, '00:00']\n",
      "[95, 1.0591051022856846e-06, 1.1209161812075763e-06, '00:00']\n",
      "[95, 1.0591051022856846e-06, 1.1209161812075763e-06, '00:00']\n",
      "[96, 1.0516879456190509e-06, 1.1107887303296593e-06, '00:00']\n",
      "[96, 1.0516879456190509e-06, 1.1107887303296593e-06, '00:00']\n",
      "[97, 1.0609153378027258e-06, 1.104578586819116e-06, '00:00']\n",
      "[97, 1.0609153378027258e-06, 1.104578586819116e-06, '00:00']\n",
      "[98, 1.0138725201613852e-06, 1.1046086001442745e-06, '00:00']\n",
      "[98, 1.0138725201613852e-06, 1.1046086001442745e-06, '00:00']\n",
      "[99, 1.0328362805012148e-06, 1.1033075679733884e-06, '00:00']\n",
      "[99, 1.0328362805012148e-06, 1.1033075679733884e-06, '00:00']\n",
      "Training took 66.96581945900016 seconds\n"
     ]
    }
   ],
   "source": [
    "import time\n",
    "\n",
    "start = time.perf_counter() # Starts timer\n",
    "learn.fit_one_cycle(n_epoch=100, lr_max=lr_min)\n",
    "end = time.perf_counter() # Ends timer\n",
    "delta_t = end - start\n",
    "print('Training took', delta_t, 'seconds')"
   ]
  },
  {
   "cell_type": "markdown",
   "metadata": {
    "id": "OoP9CzsDATXL"
   },
   "source": [
    "Then we plot the loss as a function of batches and epochs to check if we reach a plateau."
   ]
  },
  {
   "cell_type": "code",
   "execution_count": 49,
   "metadata": {
    "id": "A4zXo50xATXL",
    "outputId": "98b8ea62-be67-4685-bb3a-c274d91bac33"
   },
   "outputs": [
    {
     "data": {
      "text/plain": [
       "Text(0, 0.5, 'Loss')"
      ]
     },
     "execution_count": 49,
     "metadata": {},
     "output_type": "execute_result"
    },
    {
     "data": {
      "image/png": "[encoded data removed]",
      "text/plain": [
       "<Figure size 432x288 with 1 Axes>"
      ]
     },
     "metadata": {},
     "output_type": "display_data"
    }
   ],
   "source": [
    "recorder.plot_loss()\n",
    "plt.suptitle(\"Learning Curve\")\n",
    "plt.xlabel(\"Epochs\")\n",
    "plt.ylabel(\"Loss\")"
   ]
  },
  {
   "cell_type": "markdown",
   "metadata": {
    "id": "Hh6RHBb0ATXL"
   },
   "source": [
    "Then we evaluate the MSE on this network - it should be of the order of 0.001 or less if all has gone well...if it has not trained as well (note the pesky 0-mass peak above...) then it's going to be a bit higher."
   ]
  },
  {
   "cell_type": "code",
   "execution_count": 50,
   "metadata": {
    "id": "xt0zH3lfATXL",
    "outputId": "33703707-8521-4442-d5b8-006455b4583c"
   },
   "outputs": [
    {
     "data": {
      "text/plain": [
       "(#1) [1.1033075679733884e-06]"
      ]
     },
     "execution_count": 50,
     "metadata": {},
     "output_type": "execute_result"
    }
   ],
   "source": [
    "learn.validate()"
   ]
  },
  {
   "cell_type": "markdown",
   "metadata": {
    "id": "v-ANi9b2ATXM"
   },
   "source": [
    "Let's plot all of this, with ratios (thanks to code by Erik Wallin)"
   ]
  },
  {
   "cell_type": "markdown",
   "metadata": {
    "id": "ZARWvOWVATXM"
   },
   "source": [
    "## Plotting the outputs of the network"
   ]
  },
  {
   "cell_type": "markdown",
   "metadata": {
    "id": "gvSPQXNeATXM"
   },
   "source": [
    "Lazy-save of our output files (they'll also be on screen)"
   ]
  },
  {
   "cell_type": "code",
   "execution_count": 18,
   "metadata": {
    "id": "fJndjJwlATXM"
   },
   "outputs": [],
   "source": [
    "import os\n",
    "save_dir = \"plotOutput\"\n",
    "if not os.path.exists(save_dir):\n",
    "    os.makedirs(save_dir)"
   ]
  },
  {
   "cell_type": "markdown",
   "metadata": {
    "id": "J0vXfPOiATXM"
   },
   "source": [
    "A function in case we want to un-normalize and get back to physical quantities..."
   ]
  },
  {
   "cell_type": "code",
   "execution_count": 19,
   "metadata": {
    "id": "ofyoPjtgATXM"
   },
   "outputs": [],
   "source": [
    "def custom_unnormalize(df):\n",
    "    df['eta'] = df['eta'] * 5\n",
    "    df['phi'] = df['phi'] * 3\n",
    "    df['E'] = 10**df['E']\n",
    "    df['pt'] = 10**(df['pt'])\n",
    "    return df"
   ]
  },
  {
   "cell_type": "markdown",
   "metadata": {
    "id": "Vw7fRTA5ATXM"
   },
   "source": [
    "Make the histograms from the dataset..."
   ]
  },
  {
   "cell_type": "code",
   "execution_count": 31,
   "metadata": {
    "id": "uCuOZkc6ATXM",
    "outputId": "a13fd36a-d30c-4867-d8b9-95382a21264e"
   },
   "outputs": [
    {
     "data": {
      "image/png": "[encoded data removed]",
      "text/plain": [
       "<Figure size 432x288 with 1 Axes>"
      ]
     },
     "metadata": {},
     "output_type": "display_data"
    },
    {
     "data": {
      "image/png": "[encoded data removed]",
      "text/plain": [
       "<Figure size 432x288 with 1 Axes>"
      ]
     },
     "metadata": {},
     "output_type": "display_data"
    },
    {
     "data": {
      "image/png": "[encoded data removed]",
      "text/plain": [
       "<Figure size 432x288 with 1 Axes>"
      ]
     },
     "metadata": {},
     "output_type": "display_data"
    },
    {
     "data": {
      "image/png": "[encoded data removed]",
      "text/plain": [
       "<Figure size 432x288 with 1 Axes>"
      ]
     },
     "metadata": {},
     "output_type": "display_data"
    }
   ],
   "source": [
    "import numpy as np\n",
    "\n",
    "plt.close('all')\n",
    "unit_list = ['[GeV]', '[rad]', '[rad]', '[GeV]']\n",
    "variable_list = [r'$p_T$', r'$\\eta$', r'$\\phi$', r'$E$']\n",
    "line_style = ['--', '-']\n",
    "colors = ['orange', 'c']\n",
    "markers = ['*', 's']\n",
    "\n",
    "model.to('cpu')\n",
    "\n",
    "save = True # Option to save figure\n",
    "\n",
    "# Histograms\n",
    "idxs = (0, 100000)  # Choose events to compare\n",
    "data = torch.tensor(test[idxs[0]:idxs[1]].values, dtype=torch.float)\n",
    "#data = torch.tensor(test[idxs[0]:idxs[1]].values, dtype=torch.float).double()\n",
    "pred = model(data)\n",
    "pred = pred.detach().numpy()\n",
    "data = data.detach().numpy()\n",
    "\n",
    "data_df = pd.DataFrame(data, columns=test.columns)\n",
    "pred_df = pd.DataFrame(pred, columns=test.columns)\n",
    "\n",
    "unnormalized_data_df = custom_unnormalize(data_df)\n",
    "unnormalized_pred_df = custom_unnormalize(pred_df)    \n",
    "    \n",
    "alph = 0.5\n",
    "n_bins = 200\n",
    "for kk in np.arange(4):\n",
    "    plt.figure()\n",
    "    n_hist_data, bin_edges, _ = plt.hist(data[:, kk], color=colors[1], label='Input', alpha=1, bins=n_bins)\n",
    "    n_hist_pred, _, _ = plt.hist(pred[:, kk], color=colors[0], label='Output', alpha=alph, bins=bin_edges)\n",
    "    plt.suptitle(variable_list[kk])\n",
    "    plt.xlabel(xlabel = variable_list[kk] + ' ' + unit_list[kk])\n",
    "    plt.ylabel('Number of events')\n",
    "    plt.yscale('log')\n",
    "    plt.legend()\n",
    "    if save:\n",
    "        plt.savefig(os.path.join(save_dir,test.columns[kk]+'.png'))\n",
    "    "
   ]
  },
  {
   "cell_type": "code",
   "execution_count": 21,
   "metadata": {
    "id": "GFhoFBcbATXM"
   },
   "outputs": [],
   "source": [
    "def getRatio(bin1,bin2):\n",
    "    bins = []\n",
    "    for b1,b2 in zip(bin1,bin2):\n",
    "        if b1==0 and b2==0:\n",
    "            bins.append(0.)\n",
    "        elif b2==0:\n",
    "            bins.append(None)\n",
    "        else:\n",
    "            bins.append((float(b2)-float(b1))/b1)\n",
    "    return bins   \n",
    "\n",
    "rat = getRatio(n_hist_data,n_hist_pred)\n",
    "#print(rat)"
   ]
  }
 ],
 "metadata": {
  "colab": {
   "name": "TLA_4D_Example.ipynb",
   "provenance": []
  },
  "kernelspec": {
   "display_name": "Python 3",
   "language": "python",
   "name": "python3"
  },
  "language_info": {
   "codemirror_mode": {
    "name": "ipython",
    "version": 3
   },
   "file_extension": ".py",
   "mimetype": "text/x-python",
   "name": "python",
   "nbconvert_exporter": "python",
   "pygments_lexer": "ipython3",
   "version": "3.8.5"
  }
 },
 "nbformat": 4,
 "nbformat_minor": 1
}
